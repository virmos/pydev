{
 "cells": [
  {
   "cell_type": "markdown",
   "metadata": {},
   "source": [
    "### Project 6 - Solution"
   ]
  },
  {
   "cell_type": "markdown",
   "metadata": {},
   "source": [
    "```\n",
    "1. Supplier exceptions\n",
    "    a. Not manufactured anymore\n",
    "    b. Production delayed\n",
    "    c. Shipping delayed\n",
    "    \n",
    "2. Checkout exceptions\n",
    "    a. Inventory type exceptions\n",
    "        - out of stock\n",
    "    b. Pricing exceptions\n",
    "        - invalid coupon code\n",
    "        - cannot stack coupons\n",
    "```"
   ]
  },
  {
   "cell_type": "code",
   "execution_count": 1,
   "metadata": {},
   "outputs": [],
   "source": [
    "from datetime import datetime \n",
    "\n",
    "class WidgetException(Exception):\n",
    "    message = 'Generic Widget exception.'\n",
    "    \n",
    "    def __init__(self, *args, customer_message=None):\n",
    "        super().__init__(args)\n",
    "        if args:\n",
    "            self.message = args[0]\n",
    "        self.customer_message = customer_message if customer_message is not None else self.message\n",
    "        \n",
    "    def log_exception(self):\n",
    "        exception = {\n",
    "            \"type\": type(self).__name__,\n",
    "            \"message\": self.message,\n",
    "            \"args\": self.args[1:]\n",
    "        }\n",
    "        print(f'EXCEPTION: {datetime.utcnow().isoformat()}: {exception}')"
   ]
  },
  {
   "cell_type": "code",
   "execution_count": 2,
   "metadata": {},
   "outputs": [],
   "source": [
    "ex1 = WidgetException('some custom message', 10, 100)\n",
    "ex2 = WidgetException(customer_message='A custom user message.')"
   ]
  },
  {
   "cell_type": "code",
   "execution_count": 3,
   "metadata": {},
   "outputs": [
    {
     "name": "stdout",
     "output_type": "stream",
     "text": [
      "EXCEPTION: 2019-08-15T05:25:05.724235: {'type': 'WidgetException', 'message': 'some custom message', 'args': ()}\n"
     ]
    }
   ],
   "source": [
    "ex1.log_exception()"
   ]
  },
  {
   "cell_type": "code",
   "execution_count": 4,
   "metadata": {},
   "outputs": [
    {
     "name": "stdout",
     "output_type": "stream",
     "text": [
      "EXCEPTION: 2019-08-15T05:25:05.732242: {'type': 'WidgetException', 'message': 'Generic Widget exception.', 'args': ()}\n"
     ]
    }
   ],
   "source": [
    "ex2.log_exception()"
   ]
  },
  {
   "cell_type": "markdown",
   "metadata": {},
   "source": [
    "Now we can create our hierarchy, and override the appropriate values for `message` to make it more specific:"
   ]
  },
  {
   "cell_type": "code",
   "execution_count": 5,
   "metadata": {},
   "outputs": [],
   "source": [
    "class SupplierException(WidgetException):\n",
    "    message = 'Supplier exception.'\n",
    "\n",
    "class NotManufacturedException(SupplierException):\n",
    "    message = 'Widget is no longer manufactured by supplier.'\n",
    "    \n",
    "class ProductionDelayedException(SupplierException):\n",
    "    message = 'Widget production has been delayed by supplier.'\n",
    "    \n",
    "class ShippingDelayedException(SupplierException):\n",
    "    message = 'Widget shipping has been delayed by supplier.'\n",
    "    \n",
    "class CheckoutException(WidgetException):\n",
    "    message = 'Checkout exception.'\n",
    "    \n",
    "class InventoryException(CheckoutException):\n",
    "    message = 'Checkout inventory exception.'\n",
    "    \n",
    "class OutOfStockException(InventoryException):\n",
    "    message = 'Inventory out of stock'\n",
    "    \n",
    "class PricingException(CheckoutException):\n",
    "    message = 'Checkout pricing exception.'\n",
    "    \n",
    "class InvalidCouponCodeException(PricingException):\n",
    "    message = 'Invalid checkout coupon code.'\n",
    "    \n",
    "class CannotStackCouponException(PricingException):\n",
    "    message = 'Cannot stack checkout coupon codes.'"
   ]
  },
  {
   "cell_type": "markdown",
   "metadata": {},
   "source": [
    "And now we can use any of these exceptions in our code, and use the defined \"logger\" we implemented:"
   ]
  },
  {
   "cell_type": "code",
   "execution_count": 6,
   "metadata": {},
   "outputs": [
    {
     "name": "stdout",
     "output_type": "stream",
     "text": [
      "EXCEPTION: 2019-08-15T05:25:05.748971: {'type': 'CannotStackCouponException', 'message': 'Cannot stack checkout coupon codes.', 'args': ()}\n"
     ]
    },
    {
     "ename": "CannotStackCouponException",
     "evalue": "()",
     "output_type": "error",
     "traceback": [
      "\u001b[0;31m---------------------------------------------------------------------------\u001b[0m",
      "\u001b[0;31mCannotStackCouponException\u001b[0m                Traceback (most recent call last)",
      "\u001b[0;32m<ipython-input-6-190053311f97>\u001b[0m in \u001b[0;36m<module>\u001b[0;34m\u001b[0m\n\u001b[1;32m      1\u001b[0m \u001b[0;32mtry\u001b[0m\u001b[0;34m:\u001b[0m\u001b[0;34m\u001b[0m\u001b[0;34m\u001b[0m\u001b[0m\n\u001b[0;32m----> 2\u001b[0;31m     \u001b[0;32mraise\u001b[0m \u001b[0mCannotStackCouponException\u001b[0m\u001b[0;34m(\u001b[0m\u001b[0;34m)\u001b[0m\u001b[0;34m\u001b[0m\u001b[0;34m\u001b[0m\u001b[0m\n\u001b[0m\u001b[1;32m      3\u001b[0m \u001b[0;32mexcept\u001b[0m \u001b[0mWidgetException\u001b[0m \u001b[0;32mas\u001b[0m \u001b[0mex\u001b[0m\u001b[0;34m:\u001b[0m\u001b[0;34m\u001b[0m\u001b[0;34m\u001b[0m\u001b[0m\n\u001b[1;32m      4\u001b[0m     \u001b[0mex\u001b[0m\u001b[0;34m.\u001b[0m\u001b[0mlog_exception\u001b[0m\u001b[0;34m(\u001b[0m\u001b[0;34m)\u001b[0m\u001b[0;34m\u001b[0m\u001b[0;34m\u001b[0m\u001b[0m\n\u001b[1;32m      5\u001b[0m     \u001b[0;32mraise\u001b[0m\u001b[0;34m\u001b[0m\u001b[0;34m\u001b[0m\u001b[0m\n",
      "\u001b[0;31mCannotStackCouponException\u001b[0m: ()"
     ]
    }
   ],
   "source": [
    "try:\n",
    "    raise CannotStackCouponException()\n",
    "except WidgetException as ex:\n",
    "    ex.log_exception()\n",
    "    raise"
   ]
  },
  {
   "cell_type": "markdown",
   "metadata": {},
   "source": [
    "Next let's add the http status codes we want to assign to each exception type."
   ]
  },
  {
   "cell_type": "code",
   "execution_count": 7,
   "metadata": {},
   "outputs": [],
   "source": [
    "from http import HTTPStatus"
   ]
  },
  {
   "cell_type": "code",
   "execution_count": 8,
   "metadata": {},
   "outputs": [],
   "source": [
    "class WidgetException(Exception):\n",
    "    message = 'Generic Widget exception.'\n",
    "    http_status = HTTPStatus.INTERNAL_SERVER_ERROR\n",
    "    \n",
    "    def __init__(self, *args, customer_message=None):\n",
    "        super().__init__(*args)\n",
    "        if args:\n",
    "            self.message = args[0]\n",
    "        self.customer_message = customer_message if customer_message is not None else self.message\n",
    "        \n",
    "    def log_exception(self):\n",
    "        exception = {\n",
    "            \"type\": type(self).__name__,\n",
    "            \"message\": self.message,\n",
    "            \"args\": self.args[1:]\n",
    "        }\n",
    "        print(f'EXCEPTION: {datetime.utcnow().isoformat()}: {exception}')"
   ]
  },
  {
   "cell_type": "markdown",
   "metadata": {},
   "source": [
    "Before we redefine our child classes, let's also implement the `to_json` function that we can use to send back to our users:"
   ]
  },
  {
   "cell_type": "code",
   "execution_count": 9,
   "metadata": {},
   "outputs": [],
   "source": [
    "import json"
   ]
  },
  {
   "cell_type": "code",
   "execution_count": 10,
   "metadata": {},
   "outputs": [],
   "source": [
    "class WidgetException(Exception):\n",
    "    message = 'Generic Widget exception.'\n",
    "    http_status = HTTPStatus.INTERNAL_SERVER_ERROR\n",
    "    \n",
    "    def __init__(self, *args, customer_message=None):\n",
    "        super().__init__(*args)\n",
    "        if args:\n",
    "            self.message = args[0]\n",
    "        self.customer_message = customer_message if customer_message is not None else self.message\n",
    "        \n",
    "    def log_exception(self):\n",
    "        exception = {\n",
    "            \"type\": type(self).__name__,\n",
    "            \"message\": self.message,\n",
    "            \"args\": self.args[1:]\n",
    "        }\n",
    "        print(f'EXCEPTION: {datetime.utcnow().isoformat()}: {exception}')\n",
    "        \n",
    "    def to_json(self):\n",
    "        response = {\n",
    "            'code': self.http_status.value,\n",
    "            'message': '{}: {}'.format(self.http_status.phrase, self.customer_message),\n",
    "            'category': type(self).__name__,\n",
    "            'time_utc': datetime.utcnow().isoformat()            \n",
    "        }\n",
    "        return json.dumps(response)"
   ]
  },
  {
   "cell_type": "code",
   "execution_count": 11,
   "metadata": {},
   "outputs": [],
   "source": [
    "e = WidgetException('same custom message for log and user')"
   ]
  },
  {
   "cell_type": "code",
   "execution_count": 12,
   "metadata": {},
   "outputs": [
    {
     "name": "stdout",
     "output_type": "stream",
     "text": [
      "EXCEPTION: 2019-08-15T05:25:13.484482: {'type': 'WidgetException', 'message': 'same custom message for log and user', 'args': ()}\n"
     ]
    }
   ],
   "source": [
    "e.log_exception()"
   ]
  },
  {
   "cell_type": "code",
   "execution_count": 13,
   "metadata": {},
   "outputs": [
    {
     "data": {
      "text/plain": [
       "{'code': 500,\n",
       " 'message': 'Internal Server Error: same custom message for log and user',\n",
       " 'category': 'WidgetException',\n",
       " 'time_utc': '2019-08-15T05:25:13.650056'}"
      ]
     },
     "execution_count": 13,
     "metadata": {},
     "output_type": "execute_result"
    }
   ],
   "source": [
    "json.loads(e.to_json())"
   ]
  },
  {
   "cell_type": "code",
   "execution_count": 14,
   "metadata": {},
   "outputs": [],
   "source": [
    "e = WidgetException('custom internal message', customer_message='custom user message')"
   ]
  },
  {
   "cell_type": "code",
   "execution_count": 15,
   "metadata": {},
   "outputs": [
    {
     "name": "stdout",
     "output_type": "stream",
     "text": [
      "EXCEPTION: 2019-08-15T05:25:13.973345: {'type': 'WidgetException', 'message': 'custom internal message', 'args': ()}\n"
     ]
    }
   ],
   "source": [
    "e.log_exception()"
   ]
  },
  {
   "cell_type": "code",
   "execution_count": 16,
   "metadata": {},
   "outputs": [
    {
     "data": {
      "text/plain": [
       "'{\"code\": 500, \"message\": \"Internal Server Error: custom user message\", \"category\": \"WidgetException\", \"time_utc\": \"2019-08-15T05:25:14.136676\"}'"
      ]
     },
     "execution_count": 16,
     "metadata": {},
     "output_type": "execute_result"
    }
   ],
   "source": [
    "e.to_json()"
   ]
  },
  {
   "cell_type": "markdown",
   "metadata": {},
   "source": [
    "Now for the bonus exercise - I asked you to try and log the stack trace as well."
   ]
  },
  {
   "cell_type": "markdown",
   "metadata": {},
   "source": [
    "To do that we could cannot simply use the `str` or `repr` of the  `__traceback__` property of the exception:"
   ]
  },
  {
   "cell_type": "code",
   "execution_count": 17,
   "metadata": {},
   "outputs": [
    {
     "name": "stdout",
     "output_type": "stream",
     "text": [
      "<traceback object at 0x7fecb03b1f88>\n"
     ]
    }
   ],
   "source": [
    "try:\n",
    "    raise WidgetException('custom error message')\n",
    "except WidgetException as ex:\n",
    "    print(repr(ex.__traceback__))"
   ]
  },
  {
   "cell_type": "markdown",
   "metadata": {},
   "source": [
    "Instead we can use the `traceback` module:"
   ]
  },
  {
   "cell_type": "code",
   "execution_count": 18,
   "metadata": {},
   "outputs": [],
   "source": [
    "import traceback"
   ]
  },
  {
   "cell_type": "code",
   "execution_count": 19,
   "metadata": {},
   "outputs": [
    {
     "name": "stdout",
     "output_type": "stream",
     "text": [
      "['Traceback (most recent call last):\\n', '  File \"<ipython-input-19-2a9225338511>\", line 2, in <module>\\n    raise ValueError\\n', 'ValueError\\n', '\\nDuring handling of the above exception, another exception occurred:\\n\\n', 'Traceback (most recent call last):\\n', '  File \"<ipython-input-19-2a9225338511>\", line 5, in <module>\\n    raise WidgetException(\\'custom error message\\')\\n', 'WidgetException: custom error message\\n']\n"
     ]
    }
   ],
   "source": [
    "try:\n",
    "    raise ValueError\n",
    "except ValueError:\n",
    "    try:\n",
    "        raise WidgetException('custom error message')\n",
    "    except WidgetException as ex:\n",
    "        print(list(traceback.TracebackException.from_exception(ex).format()))"
   ]
  },
  {
   "cell_type": "markdown",
   "metadata": {},
   "source": [
    "So we can use that to implement logging the traceback. What would be nice too would be to expose the formatted traceback in our exception class while we're at it.\n",
    "\n",
    "Since tracebacks can be huge, we're not going to materialize the traceback generator in that property (we'll still have to when we log the exception):"
   ]
  },
  {
   "cell_type": "code",
   "execution_count": 20,
   "metadata": {},
   "outputs": [],
   "source": [
    "class WidgetException(Exception):\n",
    "    message = 'Generic Widget exception.'\n",
    "    http_status = HTTPStatus.INTERNAL_SERVER_ERROR\n",
    "    \n",
    "    def __init__(self, *args, customer_message=None):\n",
    "        super().__init__(*args)\n",
    "        if args:\n",
    "            self.message = args[0]\n",
    "        self.customer_message = customer_message if customer_message is not None else self.message\n",
    "        \n",
    "    @property\n",
    "    def traceback(self):\n",
    "        return traceback.TracebackException.from_exception(self).format()\n",
    "    \n",
    "    def log_exception(self):\n",
    "        exception = {\n",
    "            \"type\": type(self).__name__,\n",
    "            \"message\": self.message,\n",
    "            \"args\": self.args[1:],\n",
    "            \"traceback\": list(self.traceback)\n",
    "        }\n",
    "        print(f'EXCEPTION: {datetime.utcnow().isoformat()}: {exception}')\n",
    "        \n",
    "    def to_json(self):\n",
    "        response = {\n",
    "            'code': self.http_status.value,\n",
    "            'message': '{}: {}'.format(self.http_status.phrase, self.customer_message),\n",
    "            'category': type(self).__name__,\n",
    "            'time_utc': datetime.utcnow().isoformat()            \n",
    "        }\n",
    "        return json.dumps(response)"
   ]
  },
  {
   "cell_type": "code",
   "execution_count": 21,
   "metadata": {},
   "outputs": [
    {
     "name": "stdout",
     "output_type": "stream",
     "text": [
      "EXCEPTION: 2019-08-15T05:25:15.569467: {'type': 'WidgetException', 'message': 'custom internal message', 'args': (), 'traceback': ['Traceback (most recent call last):\\n', '  File \"<ipython-input-21-472686457160>\", line 2, in <module>\\n    raise WidgetException(\\'custom internal message\\', customer_message=\\'custom user message\\')\\n', 'WidgetException: custom internal message\\n']}\n",
      "------------\n",
      "{\"code\": 500, \"message\": \"Internal Server Error: custom user message\", \"category\": \"WidgetException\", \"time_utc\": \"2019-08-15T05:25:15.569634\"}\n"
     ]
    }
   ],
   "source": [
    "try:\n",
    "    raise WidgetException('custom internal message', customer_message='custom user message')\n",
    "except WidgetException as ex:\n",
    "    ex.log_exception()\n",
    "    print('------------')\n",
    "    print(ex.to_json())"
   ]
  },
  {
   "cell_type": "markdown",
   "metadata": {},
   "source": [
    "What's nice now, is that we could just print the traceback wihout logging the exception:"
   ]
  },
  {
   "cell_type": "code",
   "execution_count": 22,
   "metadata": {},
   "outputs": [
    {
     "name": "stdout",
     "output_type": "stream",
     "text": [
      "Traceback (most recent call last):\n",
      "  File \"<ipython-input-22-2212fef7bb30>\", line 2, in <module>\n",
      "    a = 1 / 0\n",
      "ZeroDivisionError: division by zero\n",
      "\n",
      "During handling of the above exception, another exception occurred:\n",
      "\n",
      "Traceback (most recent call last):\n",
      "  File \"<ipython-input-22-2212fef7bb30>\", line 5, in <module>\n",
      "    raise WidgetException()\n",
      "WidgetException\n",
      "\n"
     ]
    }
   ],
   "source": [
    "try:\n",
    "    a = 1 / 0\n",
    "except ZeroDivisionError:\n",
    "    try:\n",
    "        raise WidgetException()\n",
    "    except WidgetException as ex:\n",
    "        print(''.join(ex.traceback))"
   ]
  },
  {
   "cell_type": "markdown",
   "metadata": {},
   "source": [
    "Now we can define our exception sub types, including the http status for each:"
   ]
  },
  {
   "cell_type": "code",
   "execution_count": 23,
   "metadata": {},
   "outputs": [],
   "source": [
    "class SupplierException(WidgetException):\n",
    "    message = 'Supplier exception.'\n",
    "    http_status = HTTPStatus.INTERNAL_SERVER_ERROR\n",
    "\n",
    "class NotManufacturedException(SupplierException):\n",
    "    message = 'Widget is no longer manufactured by supplier.'\n",
    "    http_status = HTTPStatus.INTERNAL_SERVER_ERROR\n",
    "    \n",
    "class ProductionDelayedException(SupplierException):\n",
    "    message = 'Widget production has been delayed by supplier.'\n",
    "    http_status = HTTPStatus.INTERNAL_SERVER_ERROR\n",
    "    \n",
    "class ShippingDelayedException(SupplierException):\n",
    "    message = 'Widget shipping has been delayed by supplier.'\n",
    "    http_status = HTTPStatus.INTERNAL_SERVER_ERROR\n",
    "    \n",
    "class CheckoutException(WidgetException):\n",
    "    message = 'Checkout exception.'\n",
    "    http_status = HTTPStatus.INTERNAL_SERVER_ERROR\n",
    "    \n",
    "class InventoryException(CheckoutException):\n",
    "    message = 'Checkout inventory exception.'\n",
    "    http_status = HTTPStatus.INTERNAL_SERVER_ERROR\n",
    "    \n",
    "class OutOfStockException(InventoryException):\n",
    "    message = 'Inventory out of stock'\n",
    "    http_status = HTTPStatus.INTERNAL_SERVER_ERROR\n",
    "    \n",
    "class PricingException(CheckoutException):\n",
    "    message = 'Checkout pricing exception.'\n",
    "    http_status = HTTPStatus.INTERNAL_SERVER_ERROR\n",
    "    \n",
    "class InvalidCouponCodeException(PricingException):\n",
    "    message = 'Invalid checkout coupon code.'\n",
    "    http_status = HTTPStatus.BAD_REQUEST\n",
    "    \n",
    "class CannotStackCouponException(PricingException):\n",
    "    message = 'Cannot stack checkout coupon codes.'\n",
    "    http_status = HTTPStatus.BAD_REQUEST"
   ]
  },
  {
   "cell_type": "code",
   "execution_count": 24,
   "metadata": {},
   "outputs": [],
   "source": [
    "e = InvalidCouponCodeException('User tried to use an old coupon', customer_message='Sorry. This coupon has expired.')"
   ]
  },
  {
   "cell_type": "code",
   "execution_count": 25,
   "metadata": {},
   "outputs": [
    {
     "name": "stdout",
     "output_type": "stream",
     "text": [
      "EXCEPTION: 2019-08-15T05:25:16.939141: {'type': 'InvalidCouponCodeException', 'message': 'User tried to use an old coupon', 'args': (), 'traceback': ['InvalidCouponCodeException: User tried to use an old coupon\\n']}\n"
     ]
    }
   ],
   "source": [
    "e.log_exception()"
   ]
  },
  {
   "cell_type": "code",
   "execution_count": 26,
   "metadata": {},
   "outputs": [
    {
     "data": {
      "text/plain": [
       "'{\"code\": 400, \"message\": \"Bad Request: Sorry. This coupon has expired.\", \"category\": \"InvalidCouponCodeException\", \"time_utc\": \"2019-08-15T05:25:17.108099\"}'"
      ]
     },
     "execution_count": 26,
     "metadata": {},
     "output_type": "execute_result"
    }
   ],
   "source": [
    "e.to_json()"
   ]
  },
  {
   "cell_type": "markdown",
   "metadata": {},
   "source": [
    "As you can see our traceback was empty above (the exception is present, but there is no call stack) - because we did not actually raise the exception!"
   ]
  },
  {
   "cell_type": "code",
   "execution_count": 27,
   "metadata": {},
   "outputs": [
    {
     "name": "stdout",
     "output_type": "stream",
     "text": [
      "EXCEPTION: 2019-08-15T05:25:17.441852: {'type': 'InvalidCouponCodeException', 'message': 'User tried to use an old coupon', 'args': (), 'traceback': ['Traceback (most recent call last):\\n', '  File \"<ipython-input-27-775351168ae0>\", line 2, in <module>\\n    raise ValueError\\n', 'ValueError\\n', '\\nDuring handling of the above exception, another exception occurred:\\n\\n', 'Traceback (most recent call last):\\n', '  File \"<ipython-input-27-775351168ae0>\", line 6, in <module>\\n    \\'User tried to use an old coupon\\', customer_message=\\'Sorry. This coupon has expired.\\'\\n', 'InvalidCouponCodeException: User tried to use an old coupon\\n']}\n",
      "------------\n",
      "{\"code\": 400, \"message\": \"Bad Request: Sorry. This coupon has expired.\", \"category\": \"InvalidCouponCodeException\", \"time_utc\": \"2019-08-15T05:25:17.442103\"}\n",
      "------------\n",
      "Traceback (most recent call last):\n",
      "  File \"<ipython-input-27-775351168ae0>\", line 2, in <module>\n",
      "    raise ValueError\n",
      "ValueError\n",
      "\n",
      "During handling of the above exception, another exception occurred:\n",
      "\n",
      "Traceback (most recent call last):\n",
      "  File \"<ipython-input-27-775351168ae0>\", line 6, in <module>\n",
      "    'User tried to use an old coupon', customer_message='Sorry. This coupon has expired.'\n",
      "InvalidCouponCodeException: User tried to use an old coupon\n",
      "\n"
     ]
    }
   ],
   "source": [
    "try:\n",
    "    raise ValueError\n",
    "except ValueError:\n",
    "    try:\n",
    "        raise InvalidCouponCodeException(\n",
    "            'User tried to use an old coupon', customer_message='Sorry. This coupon has expired.'\n",
    "        )\n",
    "    except InvalidCouponCodeException as ex:\n",
    "        ex.log_exception()\n",
    "        print('------------')\n",
    "        print(ex.to_json())\n",
    "        print('------------')\n",
    "        print(''.join(ex.traceback))"
   ]
  }
 ],
 "metadata": {
  "kernelspec": {
   "display_name": "Python 3",
   "language": "python",
   "name": "python3"
  },
  "language_info": {
   "codemirror_mode": {
    "name": "ipython",
    "version": 3
   },
   "file_extension": ".py",
   "mimetype": "text/x-python",
   "name": "python",
   "nbconvert_exporter": "python",
   "pygments_lexer": "ipython3",
   "version": "3.6.7"
  }
 },
 "nbformat": 4,
 "nbformat_minor": 2
}

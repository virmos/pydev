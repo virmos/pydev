{
 "cells": [
  {
   "cell_type": "markdown",
   "metadata": {},
   "source": [
    "### Descriptors"
   ]
  },
  {
   "cell_type": "markdown",
   "metadata": {},
   "source": [
    "Python **descriptors** are simply objects that implement the **descriptor protocol**.\n",
    "\n",
    "The protocol is comprised of the following special methods - not all are required.\n",
    "- `__get__`: used to retrieve the property value\n",
    "- `__set__`: used to store the property value (we'll see where we can do this in a bit)\n",
    "- `__del__`: delete a property from the instance\n",
    "- `__set_name__`: new to Python 3.6, we can use this to capture the property name as it is being defined in the owner class (the class where the property is defined).\n",
    "\n",
    "There are two types of descriptors we need to distingush as I explain in the video lecture:\n",
    "- non-data descriptors: these are descriptors that only implement `__get__` (and optionally `__set_name__`)\n",
    "- data descriptors: these implement the `__set__` method, and normally, also the `__get__` method."
   ]
  },
  {
   "cell_type": "markdown",
   "metadata": {},
   "source": [
    "Let's create a simple non-data descriptor:"
   ]
  },
  {
   "cell_type": "code",
   "execution_count": 1,
   "metadata": {},
   "outputs": [],
   "source": [
    "from datetime import datetime\n",
    "\n",
    "class TimeUTC:\n",
    "    def __get__(self, instance, owner_class):\n",
    "        return datetime.utcnow().isoformat()"
   ]
  },
  {
   "cell_type": "markdown",
   "metadata": {},
   "source": [
    "So `TimeUTC` is a class that implements the `__get__` method only, and is therefore considered a non-data descriptor."
   ]
  },
  {
   "cell_type": "markdown",
   "metadata": {},
   "source": [
    "We can now use it to create properties in other classes:"
   ]
  },
  {
   "cell_type": "code",
   "execution_count": 2,
   "metadata": {},
   "outputs": [],
   "source": [
    "class Logger:\n",
    "    current_time = TimeUTC()"
   ]
  },
  {
   "cell_type": "markdown",
   "metadata": {},
   "source": [
    "Note that `current_time` is a class attribute:"
   ]
  },
  {
   "cell_type": "code",
   "execution_count": 3,
   "metadata": {},
   "outputs": [
    {
     "data": {
      "text/plain": [
       "mappingproxy({'__module__': '__main__',\n",
       "              'current_time': <__main__.TimeUTC at 0x7fdcd84bbd68>,\n",
       "              '__dict__': <attribute '__dict__' of 'Logger' objects>,\n",
       "              '__weakref__': <attribute '__weakref__' of 'Logger' objects>,\n",
       "              '__doc__': None})"
      ]
     },
     "execution_count": 3,
     "metadata": {},
     "output_type": "execute_result"
    }
   ],
   "source": [
    "Logger.__dict__"
   ]
  },
  {
   "cell_type": "markdown",
   "metadata": {},
   "source": [
    "We can access that attribute from an instance of the `Logger` class:"
   ]
  },
  {
   "cell_type": "code",
   "execution_count": 4,
   "metadata": {},
   "outputs": [],
   "source": [
    "l = Logger()"
   ]
  },
  {
   "cell_type": "code",
   "execution_count": 5,
   "metadata": {},
   "outputs": [
    {
     "data": {
      "text/plain": [
       "'2019-07-13T20:47:06.391770'"
      ]
     },
     "execution_count": 5,
     "metadata": {},
     "output_type": "execute_result"
    }
   ],
   "source": [
    "l.current_time"
   ]
  },
  {
   "cell_type": "markdown",
   "metadata": {},
   "source": [
    "We can also access it from the class itself, and for now it behaves the same (we'll come back to that later):"
   ]
  },
  {
   "cell_type": "code",
   "execution_count": 6,
   "metadata": {},
   "outputs": [
    {
     "data": {
      "text/plain": [
       "'2019-07-13T20:47:06.405059'"
      ]
     },
     "execution_count": 6,
     "metadata": {},
     "output_type": "execute_result"
    }
   ],
   "source": [
    "Logger.current_time"
   ]
  },
  {
   "cell_type": "markdown",
   "metadata": {},
   "source": [
    "Let's consider another example."
   ]
  },
  {
   "cell_type": "markdown",
   "metadata": {},
   "source": [
    "Suppose we want to create class that allows us to select a random suit and random card from that suit from a deck of cards (with replacement, i.e. the same card can be picked more than once)."
   ]
  },
  {
   "cell_type": "markdown",
   "metadata": {},
   "source": [
    "We could approach it this way:"
   ]
  },
  {
   "cell_type": "code",
   "execution_count": 7,
   "metadata": {},
   "outputs": [],
   "source": [
    "from random import choice, seed\n",
    "\n",
    "class Deck:\n",
    "    @property\n",
    "    def suit(self):\n",
    "        return choice(('Spade', 'Heart', 'Diamond', 'Club'))\n",
    "        \n",
    "    @property\n",
    "    def card(self):\n",
    "        return choice(tuple('23456789JQKA') + ('10',))"
   ]
  },
  {
   "cell_type": "code",
   "execution_count": 8,
   "metadata": {},
   "outputs": [],
   "source": [
    "d = Deck()"
   ]
  },
  {
   "cell_type": "code",
   "execution_count": 9,
   "metadata": {},
   "outputs": [
    {
     "name": "stdout",
     "output_type": "stream",
     "text": [
      "8 Club\n",
      "2 Diamond\n",
      "J Club\n",
      "8 Diamond\n",
      "9 Diamond\n",
      "Q Heart\n",
      "J Heart\n",
      "6 Heart\n",
      "10 Spade\n",
      "Q Diamond\n"
     ]
    }
   ],
   "source": [
    "seed(0)\n",
    "\n",
    "for _ in range(10):\n",
    "    print(d.card, d.suit)"
   ]
  },
  {
   "cell_type": "markdown",
   "metadata": {},
   "source": [
    "This was pretty easy, but as you can see both properties essentially did the same thing - they picked a random choice from some iterable.\n",
    "\n",
    "Let's rewrite this using a custom descriptor:"
   ]
  },
  {
   "cell_type": "code",
   "execution_count": 10,
   "metadata": {},
   "outputs": [],
   "source": [
    "class Choice:\n",
    "    def __init__(self, *choices):\n",
    "        self.choices = choices\n",
    "        \n",
    "    def __get__(self, instance, owner_class):\n",
    "        return choice(self.choices)"
   ]
  },
  {
   "cell_type": "markdown",
   "metadata": {},
   "source": [
    "And now we can rewrite our `Deck` class this way:"
   ]
  },
  {
   "cell_type": "code",
   "execution_count": 11,
   "metadata": {},
   "outputs": [],
   "source": [
    "class Deck:\n",
    "    suit = Choice('Spade', 'Heart', 'Diamond', 'Club')\n",
    "    card = Choice(*'23456789JQKA', '10')"
   ]
  },
  {
   "cell_type": "code",
   "execution_count": 12,
   "metadata": {},
   "outputs": [
    {
     "name": "stdout",
     "output_type": "stream",
     "text": [
      "8 Club\n",
      "2 Diamond\n",
      "J Club\n",
      "8 Diamond\n",
      "9 Diamond\n",
      "Q Heart\n",
      "J Heart\n",
      "6 Heart\n",
      "10 Spade\n",
      "Q Diamond\n"
     ]
    }
   ],
   "source": [
    "seed(0)\n",
    "\n",
    "d = Deck()\n",
    "\n",
    "for _ in range(10):\n",
    "    print(d.card, d.suit)"
   ]
  },
  {
   "cell_type": "markdown",
   "metadata": {},
   "source": [
    "Of course we are not limited to just cards, we could use it in other classes too:"
   ]
  },
  {
   "cell_type": "code",
   "execution_count": 13,
   "metadata": {},
   "outputs": [],
   "source": [
    "class Dice:\n",
    "    die_1 = Choice(1,2,3,4,5,6)\n",
    "    die_2 = Choice(1,2,3,4,5,6)\n",
    "    die_3 = Choice(1,2,3,4,5,6)"
   ]
  },
  {
   "cell_type": "code",
   "execution_count": 14,
   "metadata": {},
   "outputs": [
    {
     "name": "stdout",
     "output_type": "stream",
     "text": [
      "4 4 1\n",
      "3 5 4\n",
      "4 3 4\n",
      "3 5 2\n",
      "5 2 3\n",
      "2 1 5\n",
      "3 5 6\n",
      "5 2 3\n",
      "1 6 1\n",
      "6 3 4\n"
     ]
    }
   ],
   "source": [
    "seed(0)\n",
    "\n",
    "dice = Dice()\n",
    "for _ in range(10):\n",
    "    print(dice.die_1, dice.die_2, dice.die_3)"
   ]
  },
  {
   "cell_type": "code",
   "execution_count": null,
   "metadata": {},
   "outputs": [],
   "source": []
  }
 ],
 "metadata": {
  "kernelspec": {
   "display_name": "Python 3",
   "language": "python",
   "name": "python3"
  },
  "language_info": {
   "codemirror_mode": {
    "name": "ipython",
    "version": 3
   },
   "file_extension": ".py",
   "mimetype": "text/x-python",
   "name": "python",
   "nbconvert_exporter": "python",
   "pygments_lexer": "ipython3",
   "version": "3.6.7"
  }
 },
 "nbformat": 4,
 "nbformat_minor": 2
}

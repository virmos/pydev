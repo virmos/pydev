{
 "cells": [
  {
   "cell_type": "markdown",
   "metadata": {},
   "source": [
    "### How are Classes Constructed?"
   ]
  },
  {
   "cell_type": "markdown",
   "metadata": {},
   "source": [
    "When we write a class such as this:"
   ]
  },
  {
   "cell_type": "code",
   "execution_count": 1,
   "metadata": {},
   "outputs": [],
   "source": [
    "import math\n",
    "\n",
    "class Circle(object):\n",
    "    def __init__(self, x, y, r):\n",
    "        self.x = x\n",
    "        self.y = y\n",
    "        self.r = r\n",
    "        \n",
    "    def area(self):\n",
    "        return math.pi * self.r ** 2"
   ]
  },
  {
   "cell_type": "markdown",
   "metadata": {},
   "source": [
    "Remember that a class is an **instance** of the `type` class:"
   ]
  },
  {
   "cell_type": "code",
   "execution_count": 2,
   "metadata": {},
   "outputs": [
    {
     "data": {
      "text/plain": [
       "type"
      ]
     },
     "execution_count": 2,
     "metadata": {},
     "output_type": "execute_result"
    }
   ],
   "source": [
    "type(Circle)"
   ]
  },
  {
   "cell_type": "markdown",
   "metadata": {},
   "source": [
    "And `type` is a class itself, so it is callable (with some arguments), and is used to create classes, instances of the `type` class."
   ]
  },
  {
   "cell_type": "markdown",
   "metadata": {},
   "source": [
    "There are four main steps involved with creating instances of a class:\n",
    "\n",
    "1. The class body is extracted - think of it as just a lump of text that contains code.\n",
    "2. The class dictionary (used for the **class** state) is created for the class namespace\n",
    "3. The body (extracted in 1), is executed in the class namespace (created in 2), thereby populating the class dictionary (in this case with two symbols, `__init__` and `area`)\n",
    "4. A new `type` **instance** is constructed using the name of the class, the base classes (remember Python supports multiple inheritance), and that dictionary."
   ]
  },
  {
   "cell_type": "markdown",
   "metadata": {},
   "source": [
    "Let's actually step through this process manually ourselves:"
   ]
  },
  {
   "cell_type": "markdown",
   "metadata": {},
   "source": [
    "First we need to look at the `exec` built-in method:"
   ]
  },
  {
   "cell_type": "markdown",
   "metadata": {},
   "source": [
    "Let's try it out with a simple example first:"
   ]
  },
  {
   "cell_type": "code",
   "execution_count": 3,
   "metadata": {},
   "outputs": [],
   "source": [
    "namespace = {}\n",
    "\n",
    "exec('''\n",
    "a = 10\n",
    "b = 20\n",
    "''', globals(), namespace)"
   ]
  },
  {
   "cell_type": "markdown",
   "metadata": {},
   "source": [
    "And now let's see what's in the `namespace` dictionary:"
   ]
  },
  {
   "cell_type": "code",
   "execution_count": 4,
   "metadata": {},
   "outputs": [
    {
     "data": {
      "text/plain": [
       "{'a': 10, 'b': 20}"
      ]
     },
     "execution_count": 4,
     "metadata": {},
     "output_type": "execute_result"
    }
   ],
   "source": [
    "namespace"
   ]
  },
  {
   "cell_type": "markdown",
   "metadata": {},
   "source": [
    "As you can see, that dictionary was used as the local namespace when the code (in the string) was executed. Of course, the code can contain any valid Python code, including function definitions:"
   ]
  },
  {
   "cell_type": "code",
   "execution_count": 5,
   "metadata": {},
   "outputs": [],
   "source": [
    "exec('''\n",
    "def add(a, b):\n",
    "    return a + b\n",
    "    \n",
    "def mul(a, b):\n",
    "    return a * b\n",
    "''', globals(), namespace)"
   ]
  },
  {
   "cell_type": "code",
   "execution_count": 6,
   "metadata": {},
   "outputs": [
    {
     "data": {
      "text/plain": [
       "{'a': 10,\n",
       " 'b': 20,\n",
       " 'add': <function __main__.add(a, b)>,\n",
       " 'mul': <function __main__.mul(a, b)>}"
      ]
     },
     "execution_count": 6,
     "metadata": {},
     "output_type": "execute_result"
    }
   ],
   "source": [
    "namespace"
   ]
  },
  {
   "cell_type": "markdown",
   "metadata": {},
   "source": [
    "And we can use those functions, since now they are actual function objects in the namespace (dictionary):"
   ]
  },
  {
   "cell_type": "code",
   "execution_count": 7,
   "metadata": {},
   "outputs": [
    {
     "data": {
      "text/plain": [
       "30"
      ]
     },
     "execution_count": 7,
     "metadata": {},
     "output_type": "execute_result"
    }
   ],
   "source": [
    "namespace['add'](10, 20)"
   ]
  },
  {
   "cell_type": "markdown",
   "metadata": {},
   "source": [
    "Remember what I told you about the class body scope? Well, this is it! And you should now understand why functions defined in that scope do not actually know anything about what else is in that scope - those functions are created independently of the dictionary into which they are inserted."
   ]
  },
  {
   "cell_type": "markdown",
   "metadata": {},
   "source": [
    "So, this is how we are going to \"run\" the class **body** in the context of the class namespace dictionary."
   ]
  },
  {
   "cell_type": "markdown",
   "metadata": {},
   "source": [
    "We'll also need to create a new `type` instance, so let's see what the signature for the `type` constructor is:"
   ]
  },
  {
   "cell_type": "code",
   "execution_count": 8,
   "metadata": {},
   "outputs": [
    {
     "name": "stdout",
     "output_type": "stream",
     "text": [
      "Help on class type in module builtins:\n",
      "\n",
      "class type(object)\n",
      " |  type(object_or_name, bases, dict)\n",
      " |  type(object) -> the object's type\n",
      " |  type(name, bases, dict) -> a new type\n",
      " |  \n",
      " |  Methods defined here:\n",
      " |  \n",
      " |  __call__(self, /, *args, **kwargs)\n",
      " |      Call self as a function.\n",
      " |  \n",
      " |  __delattr__(self, name, /)\n",
      " |      Implement delattr(self, name).\n",
      " |  \n",
      " |  __dir__(self, /)\n",
      " |      Specialized __dir__ implementation for types.\n",
      " |  \n",
      " |  __getattribute__(self, name, /)\n",
      " |      Return getattr(self, name).\n",
      " |  \n",
      " |  __init__(self, /, *args, **kwargs)\n",
      " |      Initialize self.  See help(type(self)) for accurate signature.\n",
      " |  \n",
      " |  __instancecheck__(self, instance, /)\n",
      " |      Check if an object is an instance.\n",
      " |  \n",
      " |  __repr__(self, /)\n",
      " |      Return repr(self).\n",
      " |  \n",
      " |  __setattr__(self, name, value, /)\n",
      " |      Implement setattr(self, name, value).\n",
      " |  \n",
      " |  __sizeof__(self, /)\n",
      " |      Return memory consumption of the type object.\n",
      " |  \n",
      " |  __subclasscheck__(self, subclass, /)\n",
      " |      Check if a class is a subclass.\n",
      " |  \n",
      " |  __subclasses__(self, /)\n",
      " |      Return a list of immediate subclasses.\n",
      " |  \n",
      " |  mro(self, /)\n",
      " |      Return a type's method resolution order.\n",
      " |  \n",
      " |  ----------------------------------------------------------------------\n",
      " |  Class methods defined here:\n",
      " |  \n",
      " |  __prepare__(...)\n",
      " |      __prepare__() -> dict\n",
      " |      used to create the namespace for the class statement\n",
      " |  \n",
      " |  ----------------------------------------------------------------------\n",
      " |  Static methods defined here:\n",
      " |  \n",
      " |  __new__(*args, **kwargs)\n",
      " |      Create and return a new object.  See help(type) for accurate signature.\n",
      " |  \n",
      " |  ----------------------------------------------------------------------\n",
      " |  Data descriptors defined here:\n",
      " |  \n",
      " |  __abstractmethods__\n",
      " |  \n",
      " |  __dict__\n",
      " |  \n",
      " |  __text_signature__\n",
      " |  \n",
      " |  ----------------------------------------------------------------------\n",
      " |  Data and other attributes defined here:\n",
      " |  \n",
      " |  __base__ = <class 'object'>\n",
      " |      The most base type\n",
      " |  \n",
      " |  __bases__ = (<class 'object'>,)\n",
      " |  \n",
      " |  __basicsize__ = 864\n",
      " |  \n",
      " |  __dictoffset__ = 264\n",
      " |  \n",
      " |  __flags__ = 2148291584\n",
      " |  \n",
      " |  __itemsize__ = 40\n",
      " |  \n",
      " |  __mro__ = (<class 'type'>, <class 'object'>)\n",
      " |  \n",
      " |  __weakrefoffset__ = 368\n",
      "\n"
     ]
    }
   ],
   "source": [
    "help(type)"
   ]
  },
  {
   "cell_type": "markdown",
   "metadata": {},
   "source": [
    "The constructor variant we are interested in is the third one. That one requires three things:\n",
    "1. the `name` of the class\n",
    "2. an tuple containing the `bases` - the classes this class inherits from (can be empty, in which case it just inherits from `object`)\n",
    "3. the class namespace `dict`"
   ]
  },
  {
   "cell_type": "markdown",
   "metadata": {},
   "source": [
    "Remember when I said that classes were basically just dictionaries? As you can see here, apart from the `name` and `bases`, all the functionality of the class is stored in the namespace dictionary!!"
   ]
  },
  {
   "cell_type": "markdown",
   "metadata": {},
   "source": [
    "So now, let's go ahead and create our `Circle` class using this approach:"
   ]
  },
  {
   "cell_type": "code",
   "execution_count": 9,
   "metadata": {},
   "outputs": [],
   "source": [
    "class_name = 'Circle'"
   ]
  },
  {
   "cell_type": "code",
   "execution_count": 10,
   "metadata": {},
   "outputs": [],
   "source": [
    "class_body = \"\"\"\n",
    "def __init__(self, x, y, r):\n",
    "    self.x = x\n",
    "    self.y = y\n",
    "    self.r = r\n",
    "\n",
    "def area(self):\n",
    "    return math.pi * self.r ** 2\n",
    "\"\"\""
   ]
  },
  {
   "cell_type": "code",
   "execution_count": 11,
   "metadata": {},
   "outputs": [],
   "source": [
    "class_bases = ()  # defaults to object"
   ]
  },
  {
   "cell_type": "code",
   "execution_count": 12,
   "metadata": {},
   "outputs": [],
   "source": [
    "class_dict = {}"
   ]
  },
  {
   "cell_type": "code",
   "execution_count": 13,
   "metadata": {},
   "outputs": [],
   "source": [
    "exec(class_body, globals(), class_dict)"
   ]
  },
  {
   "cell_type": "markdown",
   "metadata": {},
   "source": [
    "Now that we have executed that code in that namespace, that dictionary has some content:"
   ]
  },
  {
   "cell_type": "code",
   "execution_count": 14,
   "metadata": {},
   "outputs": [
    {
     "data": {
      "text/plain": [
       "{'__init__': <function __main__.__init__(self, x, y, r)>,\n",
       " 'area': <function __main__.area(self)>}"
      ]
     },
     "execution_count": 14,
     "metadata": {},
     "output_type": "execute_result"
    }
   ],
   "source": [
    "class_dict"
   ]
  },
  {
   "cell_type": "markdown",
   "metadata": {},
   "source": [
    "And we can now create the `Circle` class, or type, by creating a new instance of `type`:"
   ]
  },
  {
   "cell_type": "code",
   "execution_count": 15,
   "metadata": {},
   "outputs": [],
   "source": [
    "Circle = type(class_name, class_bases, class_dict)"
   ]
  },
  {
   "cell_type": "code",
   "execution_count": 16,
   "metadata": {},
   "outputs": [
    {
     "data": {
      "text/plain": [
       "__main__.Circle"
      ]
     },
     "execution_count": 16,
     "metadata": {},
     "output_type": "execute_result"
    }
   ],
   "source": [
    "Circle"
   ]
  },
  {
   "cell_type": "code",
   "execution_count": 17,
   "metadata": {},
   "outputs": [
    {
     "data": {
      "text/plain": [
       "type"
      ]
     },
     "execution_count": 17,
     "metadata": {},
     "output_type": "execute_result"
    }
   ],
   "source": [
    "type(Circle)"
   ]
  },
  {
   "cell_type": "code",
   "execution_count": 18,
   "metadata": {},
   "outputs": [
    {
     "data": {
      "text/plain": [
       "mappingproxy({'__init__': <function __main__.__init__(self, x, y, r)>,\n",
       "              'area': <function __main__.area(self)>,\n",
       "              '__module__': '__main__',\n",
       "              '__dict__': <attribute '__dict__' of 'Circle' objects>,\n",
       "              '__weakref__': <attribute '__weakref__' of 'Circle' objects>,\n",
       "              '__doc__': None})"
      ]
     },
     "execution_count": 18,
     "metadata": {},
     "output_type": "execute_result"
    }
   ],
   "source": [
    "Circle.__dict__"
   ]
  },
  {
   "cell_type": "markdown",
   "metadata": {},
   "source": [
    "As you can see the `Circle` namespace dict contains our functions `__init__` and `area`."
   ]
  },
  {
   "cell_type": "markdown",
   "metadata": {},
   "source": [
    "And we now have a `Circle` class that we can use just like before:"
   ]
  },
  {
   "cell_type": "code",
   "execution_count": 19,
   "metadata": {},
   "outputs": [],
   "source": [
    "c = Circle(0, 0, 1)"
   ]
  },
  {
   "cell_type": "code",
   "execution_count": 20,
   "metadata": {},
   "outputs": [
    {
     "data": {
      "text/plain": [
       "(0, 0, 1)"
      ]
     },
     "execution_count": 20,
     "metadata": {},
     "output_type": "execute_result"
    }
   ],
   "source": [
    "c.x, c.y, c.r"
   ]
  },
  {
   "cell_type": "code",
   "execution_count": 21,
   "metadata": {},
   "outputs": [
    {
     "data": {
      "text/plain": [
       "3.141592653589793"
      ]
     },
     "execution_count": 21,
     "metadata": {},
     "output_type": "execute_result"
    }
   ],
   "source": [
    "c.area()"
   ]
  },
  {
   "cell_type": "markdown",
   "metadata": {},
   "source": [
    "So as you can see, we use the `type` class to construct new types (classes), basically creating instances of `type`.\n",
    "\n",
    "This is why we refer to `type` as a **metaclass**. It is a class used to construct classes."
   ]
  },
  {
   "cell_type": "markdown",
   "metadata": {},
   "source": [
    "Also, make sure you understand that `type` is callable in two different ways - depending on what arguments are passed to `type()` it will do different things:"
   ]
  },
  {
   "cell_type": "markdown",
   "metadata": {},
   "source": [
    "Creates a new `type` instance:"
   ]
  },
  {
   "cell_type": "code",
   "execution_count": 22,
   "metadata": {},
   "outputs": [],
   "source": [
    "Circle = type(class_name, class_bases, class_dict)"
   ]
  },
  {
   "cell_type": "markdown",
   "metadata": {},
   "source": [
    "Returns the `type` of an object:"
   ]
  },
  {
   "cell_type": "code",
   "execution_count": 23,
   "metadata": {},
   "outputs": [
    {
     "data": {
      "text/plain": [
       "type"
      ]
     },
     "execution_count": 23,
     "metadata": {},
     "output_type": "execute_result"
    }
   ],
   "source": [
    "type(Circle)"
   ]
  }
 ],
 "metadata": {
  "kernelspec": {
   "display_name": "Python 3",
   "language": "python",
   "name": "python3"
  },
  "language_info": {
   "codemirror_mode": {
    "name": "ipython",
    "version": 3
   },
   "file_extension": ".py",
   "mimetype": "text/x-python",
   "name": "python",
   "nbconvert_exporter": "python",
   "pygments_lexer": "ipython3",
   "version": "3.7.4"
  }
 },
 "nbformat": 4,
 "nbformat_minor": 2
}

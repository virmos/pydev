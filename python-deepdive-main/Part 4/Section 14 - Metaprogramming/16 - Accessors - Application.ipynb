{
 "cells": [
  {
   "cell_type": "markdown",
   "metadata": {},
   "source": [
    "### Accessors - Application"
   ]
  },
  {
   "cell_type": "markdown",
   "metadata": {},
   "source": [
    "Another useful application of `__getattr__` and `__setattr__` is dealing with objects where we may not know the attributes in advance."
   ]
  },
  {
   "cell_type": "markdown",
   "metadata": {},
   "source": [
    "Consider this scenario where we have a database with various tables and fields. We want to create a class that allows us to retrieve data from these tables."
   ]
  },
  {
   "cell_type": "markdown",
   "metadata": {},
   "source": [
    "We could certainly write a class for each specific table, and hardcode the fields as properties in the class - but that's going to create repetitive code, and anytime there is a new table or the schema of an existing table changes we'll have to revise our code."
   ]
  },
  {
   "cell_type": "markdown",
   "metadata": {},
   "source": [
    "I'm going to simulate a database here by using dictionaries. The outer dictionary will contain tables (as keys), and each table will contain records with a numeric key for each record."
   ]
  },
  {
   "cell_type": "code",
   "execution_count": 1,
   "metadata": {},
   "outputs": [],
   "source": [
    "DB = {\n",
    "    'Person': {\n",
    "        1: {'first_name': 'Isaac', 'last_name': 'Newton', 'born': 1642, 'country_id': 1},\n",
    "        2: {'first_name': 'Gottfried', 'last_name': 'von Leibniz', 'born': 1646, 'country_id': 5},\n",
    "        3: {'first_name': 'Joseph', 'last_name': 'Fourier', 'born': 1768, 'country_id': 3},\n",
    "        4: {'first_name': 'Bernhard', 'last_name': 'Riemann', 'born': 1826, 'country_id': 5},\n",
    "        5: {'first_name': 'David', 'last_name': 'Hilbert', 'born': 1862 , 'country_id': 5},\n",
    "        6: {'first_name': 'Srinivasa', 'last_name': 'Ramanujan', 'born': 1887, 'country_id': 4},\n",
    "        7: {'first_name': 'John', 'last_name': 'von Neumann', 'born': 1903, 'country_id': 2},\n",
    "        8: {'first_name': 'Andrew', 'last_name': 'Wiles', 'born': 1928, 'country_id': 6}\n",
    "    },\n",
    "    'Country': {\n",
    "        1: {'name': 'United Kingdom', 'capital': 'London', 'continent': 'Europe'},\n",
    "        2 :{'name': 'Hungary', 'capital': 'Budapest', 'continent': 'Europe'},\n",
    "        3: {'name': 'France', 'capital': 'Paris', 'continent': 'Europe'},\n",
    "        4: {'name': 'India', 'capital': 'New Delhi', 'continent': 'Asia'},\n",
    "        5: {'name': 'Germany', 'capital': 'Berlin', 'continent': 'Europe'},\n",
    "        6: {'name': 'USA', 'capital': 'Washington DC', 'continent': 'North America'}\n",
    "        }\n",
    "}"
   ]
  },
  {
   "cell_type": "markdown",
   "metadata": {},
   "source": [
    "Now we could certainly do something like this for each table:"
   ]
  },
  {
   "cell_type": "code",
   "execution_count": 2,
   "metadata": {},
   "outputs": [],
   "source": [
    "class Country:\n",
    "    def __init__(self, id_):\n",
    "        if _id in DB['Country']:\n",
    "            self._db_record = DB['Country'][id_]\n",
    "        else:\n",
    "            raise ValueError(f'Record not found (Country.id={id_})')\n",
    "\n",
    "    @property\n",
    "    def name(self):\n",
    "        return self._db_record['name']\n",
    "    \n",
    "    @property\n",
    "    def capital(self):\n",
    "        return self._db_record['capital']\n",
    "    \n",
    "    @property\n",
    "    def continent(self):\n",
    "        return self._db_record['continent']"
   ]
  },
  {
   "cell_type": "markdown",
   "metadata": {},
   "source": [
    "And we would have to do the same thing with the `Person` table, and any other table we want from our database. Tedious and repetitive code!!"
   ]
  },
  {
   "cell_type": "markdown",
   "metadata": {},
   "source": [
    "We could create a metaclass that inspects the table structure and creates the appropriate fields, that would work well with code completion for example. \n",
    "\n",
    "But if we don't want to get too fancy, we can instead just use `__getattr__`. We'll implement the `__setattr__` as well, but of course in a real database situation you would need to implement some mechanism to persist the changes back to the database."
   ]
  },
  {
   "cell_type": "markdown",
   "metadata": {},
   "source": [
    "We are going to create a `DBTable` class that will be used to represent a table in the database, and we'll make it callable so we can pass the record id to the instance, which will return a `DBRecord` object that we can then use to access the fields in the table."
   ]
  },
  {
   "cell_type": "markdown",
   "metadata": {},
   "source": [
    "Let's write the `DBRecord` class first. This class will be passed a database record (so a dictionary in this example), and will be tasked with looking up \"fields\" (keys in this example) in the table (dictionary)."
   ]
  },
  {
   "cell_type": "code",
   "execution_count": 3,
   "metadata": {},
   "outputs": [],
   "source": [
    "class DBRecord:\n",
    "    def __init__(self, db_record_dict):\n",
    "        # again, careful how you set a property on instances of this class\n",
    "        # because we are overriding __setattr__ we cannot just use \n",
    "        # self._record = db_record_dict\n",
    "        # this will call OUR version of `__setattr__`, which attempts to \n",
    "        # see if name is in _record - but _record does not exist yet, so it will\n",
    "        # call __getattr__, which in turn tries to check if that is contained in _record\n",
    "        # so, infinite recursion.\n",
    "        # What we want to here is BYPASS our custom __setattr__ - so we'll use\n",
    "        # the one in the superclass.\n",
    "        super().__setattr__('_record', db_record_dict)    \n",
    "        \n",
    "    def __getattr__(self, name):\n",
    "        # here we could write\n",
    "        #     if name in self._record \n",
    "        # since this method should not get called\n",
    "        # before _record as been created.\n",
    "        # But just to be on the safe side, I'm still going to use super\n",
    "        if name in super().__getattribute__('_record'):\n",
    "            return self._record[name]\n",
    "        else:\n",
    "            raise AttributeError(f'Field name {name} does not exist.')\n",
    "\n",
    "    def __setattr__(self, name, value):\n",
    "        # and again here, we could write\n",
    "        # if name in self._record, but I'm still going to use super\n",
    "        if name in super().__getattribute__('_record'):\n",
    "            # super().__setattr__(name, value)\n",
    "            self._record[name] = value\n",
    "        else:\n",
    "            raise AttributeError(f'Field name {name} does not exist.')"
   ]
  },
  {
   "cell_type": "markdown",
   "metadata": {},
   "source": [
    "Next, we define the `DBTable` class. It will be initialized with the name of the table we want to use in our instance. Furthermore we'll make it callable (passing in the record id) and that shoudl return an instance of `DBRecord` for the particular record."
   ]
  },
  {
   "cell_type": "code",
   "execution_count": 4,
   "metadata": {},
   "outputs": [],
   "source": [
    "class DBTable:\n",
    "    def __init__(self, db, table_name):\n",
    "        if table_name not in db:\n",
    "            raise ValueError(f'The table {table_name} does not exist in the database.')\n",
    "        self._table_name = table_name\n",
    "        self._table = db[table_name]\n",
    "        \n",
    "    @property\n",
    "    def table_name(self):\n",
    "        return self._table_name\n",
    "    \n",
    "    def __call__(self, record_id):\n",
    "        if record_id not in self._table:\n",
    "            raise ValueError(f'Specified id ({record_id}) does not exist '\n",
    "                             f'in table {self._table_name}')\n",
    "        return DBRecord(self._table[record_id])"
   ]
  },
  {
   "cell_type": "markdown",
   "metadata": {},
   "source": [
    "And now we can use our classes this way:"
   ]
  },
  {
   "cell_type": "code",
   "execution_count": 5,
   "metadata": {},
   "outputs": [],
   "source": [
    "tbl_person = DBTable(DB, 'Person')\n",
    "tbl_country = DBTable(DB, 'Country')"
   ]
  },
  {
   "cell_type": "code",
   "execution_count": 6,
   "metadata": {},
   "outputs": [],
   "source": [
    "person_1 = tbl_person(1)"
   ]
  },
  {
   "cell_type": "code",
   "execution_count": 7,
   "metadata": {},
   "outputs": [
    {
     "data": {
      "text/plain": [
       "('Isaac', 'Newton', 1642, 1)"
      ]
     },
     "execution_count": 7,
     "metadata": {},
     "output_type": "execute_result"
    }
   ],
   "source": [
    "person_1.first_name, person_1.last_name, person_1.born, person_1.country_id"
   ]
  },
  {
   "cell_type": "code",
   "execution_count": 8,
   "metadata": {},
   "outputs": [],
   "source": [
    "country_1 = tbl_country(person_1.country_id)"
   ]
  },
  {
   "cell_type": "code",
   "execution_count": 9,
   "metadata": {},
   "outputs": [
    {
     "data": {
      "text/plain": [
       "('United Kingdom', 'London')"
      ]
     },
     "execution_count": 9,
     "metadata": {},
     "output_type": "execute_result"
    }
   ],
   "source": [
    "country_1.name, country_1.capital"
   ]
  },
  {
   "cell_type": "markdown",
   "metadata": {},
   "source": [
    "There's quite a bit more functionality we might want to add - maybe a way to determine all the fields available in a record for example:"
   ]
  },
  {
   "cell_type": "code",
   "execution_count": 10,
   "metadata": {},
   "outputs": [],
   "source": [
    "class DBRecord:\n",
    "    def __init__(self, db_record_dict):\n",
    "        # again, careful how you set a property on instances of this class\n",
    "        # because we are overriding __setattr__ we cannot just use \n",
    "        # self._record = db_record_dict\n",
    "        # this will call OUR version of `__setattr__`, which attempts to \n",
    "        # see if name is in _record - but _record does not exist yet, so it will\n",
    "        # call __getattr__, which in turn tries to check if that is contained in _record\n",
    "        # so, infinite recursion.\n",
    "        # What we want to here is BYPASS our custom __setattr__ - so we'll use\n",
    "        # the one in the superclass.\n",
    "        super().__setattr__('_record', db_record_dict)    \n",
    "        \n",
    "    def __getattr__(self, name):\n",
    "        # here we could write\n",
    "        #     if name in self._record \n",
    "        # since this method should not get called\n",
    "        # before _record as been created.\n",
    "        # But just to be on the safe side, I'm still going to use super\n",
    "        if name in super().__getattribute__('_record'):\n",
    "            return self._record[name]\n",
    "        else:\n",
    "            raise AttributeError(f'Field name {name} does not exist.')\n",
    "\n",
    "    def __setattr__(self, name, value):\n",
    "        # and again here, we could write\n",
    "        # if name in self._record, but I'm still going to use super\n",
    "        if name in super().__getattribute__('_record'):\n",
    "            self._record[name] = value\n",
    "        else:\n",
    "            raise AttributeError(f'Field name {name} does not exist.')\n",
    "            \n",
    "    @property\n",
    "    def fields(self):\n",
    "        return tuple(self._record.keys())"
   ]
  },
  {
   "cell_type": "code",
   "execution_count": 11,
   "metadata": {},
   "outputs": [],
   "source": [
    "tbl_person = DBTable(DB, 'Person')"
   ]
  },
  {
   "cell_type": "code",
   "execution_count": 12,
   "metadata": {},
   "outputs": [],
   "source": [
    "person_1 = tbl_person(2)"
   ]
  },
  {
   "cell_type": "code",
   "execution_count": 13,
   "metadata": {},
   "outputs": [
    {
     "data": {
      "text/plain": [
       "('first_name', 'last_name', 'born', 'country_id')"
      ]
     },
     "execution_count": 13,
     "metadata": {},
     "output_type": "execute_result"
    }
   ],
   "source": [
    "person_1.fields"
   ]
  },
  {
   "cell_type": "markdown",
   "metadata": {},
   "source": [
    "We can of course set the field values, via the `__setattr__`:"
   ]
  },
  {
   "cell_type": "code",
   "execution_count": 14,
   "metadata": {},
   "outputs": [
    {
     "data": {
      "text/plain": [
       "'von Leibniz'"
      ]
     },
     "execution_count": 14,
     "metadata": {},
     "output_type": "execute_result"
    }
   ],
   "source": [
    "person_1.last_name"
   ]
  },
  {
   "cell_type": "code",
   "execution_count": 15,
   "metadata": {},
   "outputs": [],
   "source": [
    "person_1.last_name = 'Leibniz'"
   ]
  },
  {
   "cell_type": "code",
   "execution_count": 16,
   "metadata": {},
   "outputs": [
    {
     "data": {
      "text/plain": [
       "'Leibniz'"
      ]
     },
     "execution_count": 16,
     "metadata": {},
     "output_type": "execute_result"
    }
   ],
   "source": [
    "person_1.last_name"
   ]
  },
  {
   "cell_type": "code",
   "execution_count": 17,
   "metadata": {},
   "outputs": [
    {
     "data": {
      "text/plain": [
       "{'_record': {'first_name': 'Gottfried',\n",
       "  'last_name': 'Leibniz',\n",
       "  'born': 1646,\n",
       "  'country_id': 5}}"
      ]
     },
     "execution_count": 17,
     "metadata": {},
     "output_type": "execute_result"
    }
   ],
   "source": [
    "person_1.__dict__"
   ]
  },
  {
   "cell_type": "markdown",
   "metadata": {},
   "source": [
    "There are many more improvements we could make, but this is good enough to show how we can use `__getattr__` and `__setattr__`."
   ]
  },
  {
   "cell_type": "markdown",
   "metadata": {},
   "source": [
    "The main difficulty with using `__getattr__` and, especially, `__setattr__` is to make sure we do not accidentally create recursive calls."
   ]
  }
 ],
 "metadata": {
  "kernelspec": {
   "display_name": "Python 3",
   "language": "python",
   "name": "python3"
  },
  "language_info": {
   "codemirror_mode": {
    "name": "ipython",
    "version": 3
   },
   "file_extension": ".py",
   "mimetype": "text/x-python",
   "name": "python",
   "nbconvert_exporter": "python",
   "pygments_lexer": "ipython3",
   "version": "3.7.4"
  }
 },
 "nbformat": 4,
 "nbformat_minor": 2
}

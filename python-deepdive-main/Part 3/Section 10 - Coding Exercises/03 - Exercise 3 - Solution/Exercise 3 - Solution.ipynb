{
 "cells": [
  {
   "cell_type": "markdown",
   "metadata": {},
   "source": [
    "### Exercise 3 - Solution"
   ]
  },
  {
   "cell_type": "markdown",
   "metadata": {},
   "source": [
    "You are given three JSON files, representing a default set of settings, and environment specific settings.\n",
    "The files are included in the downloads, and are named:\n",
    "* `common.json`\n",
    "* `dev.json`\n",
    "* `prod.json`\n",
    "\n",
    "Your goal is to write a function that has a single argument, the environment name, and returns the \"combined\" dictionary that merges the two dictionaries together, with the environment specific settings overriding any common settings already defined.\n",
    "\n",
    "For simplicity, assume that the argument values are going to be the same as the file names, without the `.json` extension. So for example, `dev` or `prod`.\n",
    "\n",
    "The wrinkle: We don't want to duplicate data for the \"merged\" dictionary - use `ChainMap` to implement this instead."
   ]
  },
  {
   "cell_type": "markdown",
   "metadata": {},
   "source": [
    "The first thing we'll need to do is write a function to load the JSON files:"
   ]
  },
  {
   "cell_type": "code",
   "execution_count": 1,
   "metadata": {},
   "outputs": [],
   "source": [
    "import json\n",
    "\n",
    "def load_settings(env):\n",
    "    # assume file name is <env>.json\n",
    "    with open(f'{env}.json') as f:\n",
    "        settings = json.load(f)\n",
    "    return settings"
   ]
  },
  {
   "cell_type": "code",
   "execution_count": 2,
   "metadata": {},
   "outputs": [],
   "source": [
    "from pprint import pprint"
   ]
  },
  {
   "cell_type": "code",
   "execution_count": 3,
   "metadata": {},
   "outputs": [
    {
     "name": "stdout",
     "output_type": "stream",
     "text": [
      "{'data': {'input_root': '/default/path/inputs',\n",
      "          'numerics': {'precision': 6, 'type': 'Decimal'},\n",
      "          'output_root': '/default/path/outputs'},\n",
      " 'database': {'db_name': 'deepdive', 'port': 5432, 'schema': 'public'},\n",
      " 'logs': {'format': '%(asctime)s: %(levelname)s: %(clientip)s %(user)s '\n",
      "                    '%(message)s',\n",
      "          'level': 'info'}}\n"
     ]
    }
   ],
   "source": [
    "pprint(load_settings('common'))"
   ]
  },
  {
   "cell_type": "code",
   "execution_count": 4,
   "metadata": {},
   "outputs": [
    {
     "name": "stdout",
     "output_type": "stream",
     "text": [
      "{'data': {'input_root': '/dev/path/inputs',\n",
      "          'numerics': {'type': 'float'},\n",
      "          'operators': {'add': '__add__'},\n",
      "          'output_root': '/dev/path/outputs'},\n",
      " 'database': {'pwd': 'test', 'user': 'test'},\n",
      " 'logs': {'format': '%(asctime)s: %(levelname)s: %(clientip)s %(user)s '\n",
      "                    '%(filename)s %(funcName)s %(message)s',\n",
      "          'level': 'trace'}}\n"
     ]
    }
   ],
   "source": [
    "pprint(load_settings('dev'))"
   ]
  },
  {
   "cell_type": "code",
   "execution_count": 5,
   "metadata": {},
   "outputs": [
    {
     "name": "stdout",
     "output_type": "stream",
     "text": [
      "{'data': {'input_root': '$DATA_INPUT_PATH', 'output_root': '$DATA_OUTPUT_PATH'},\n",
      " 'database': {'pwd': '$PG_PWD', 'user': '$PG_USER'}}\n"
     ]
    }
   ],
   "source": [
    "pprint(load_settings('prod'))"
   ]
  },
  {
   "cell_type": "markdown",
   "metadata": {},
   "source": [
    "OK, so our function seems to work fine.\n",
    "Now time to \"combine\" our settings - let's try this simple approach first.\n",
    "\n",
    "Spoiler alert: this won't work as expected!"
   ]
  },
  {
   "cell_type": "code",
   "execution_count": 6,
   "metadata": {},
   "outputs": [],
   "source": [
    "from collections import ChainMap\n",
    "\n",
    "def settings(env):\n",
    "    # combine common.json and <env>.json, with env settings taking precedence\n",
    "    common_settings = load_settings('common')\n",
    "    env_settings = load_settings(env)\n",
    "    return ChainMap(env_settings, common_settings)"
   ]
  },
  {
   "cell_type": "code",
   "execution_count": 7,
   "metadata": {},
   "outputs": [],
   "source": [
    "dev = settings('dev')"
   ]
  },
  {
   "cell_type": "code",
   "execution_count": 8,
   "metadata": {},
   "outputs": [
    {
     "name": "stdout",
     "output_type": "stream",
     "text": [
      "data : {'input_root': '/dev/path/inputs', 'output_root': '/dev/path/outputs', 'numerics': {'type': 'float'}, 'operators': {'add': '__add__'}}\n",
      "logs : {'level': 'trace', 'format': '%(asctime)s: %(levelname)s: %(clientip)s %(user)s %(filename)s %(funcName)s %(message)s'}\n",
      "database : {'user': 'test', 'pwd': 'test'}\n"
     ]
    }
   ],
   "source": [
    "for k, v in dev.items():\n",
    "    print(k, ':', v)"
   ]
  },
  {
   "cell_type": "markdown",
   "metadata": {},
   "source": [
    "**What happened to the values that were in `common`??**"
   ]
  },
  {
   "cell_type": "markdown",
   "metadata": {},
   "source": [
    "For example, we don't see the `database` `port`??"
   ]
  },
  {
   "cell_type": "markdown",
   "metadata": {},
   "source": [
    "This does not work as intended because of sub-dictionaries - as you can see the dictionary for `database` for example is the one from `dev`, and not a \"combined\" dictionary.\n",
    "\n",
    "`ChainMap` is not recursive, so this is not going to work for us as it stands."
   ]
  },
  {
   "cell_type": "markdown",
   "metadata": {},
   "source": [
    "We need to use a recursive approach to handle any amount of nesting.\n",
    "\n",
    "Let's think how we would do this for a single level.\n",
    "\n",
    "When we chain two dictionaries together, we will have to replace any sub-dictionary with a chain of the sub-dictionaries further down the line - fortunately our line is two, since we only deal with `common` and either `dev` or `prod` (or whatever environment names we want to support).\n",
    "\n",
    "So if a key in `dev` (for example), has a dictionary value, we need to chain that sub-dictionary too. And if any of the keys in the chained-subdictionary contains nested dictionaries, we need to chain those too."
   ]
  },
  {
   "cell_type": "code",
   "execution_count": 9,
   "metadata": {},
   "outputs": [],
   "source": [
    "def chain_recursive(d1, d2):\n",
    "    chain = ChainMap(d1, d2)\n",
    "    for k, v in d1.items():\n",
    "        if isinstance(v, dict) and k in d2:\n",
    "            chain[k] = chain_recursive(d1[k], d2[k])\n",
    "    return chain"
   ]
  },
  {
   "cell_type": "code",
   "execution_count": 10,
   "metadata": {},
   "outputs": [],
   "source": [
    "d1 = load_settings('common')\n",
    "d2 = load_settings('dev')"
   ]
  },
  {
   "cell_type": "code",
   "execution_count": 11,
   "metadata": {},
   "outputs": [],
   "source": [
    "dev = chain_recursive(d2, d1)"
   ]
  },
  {
   "cell_type": "code",
   "execution_count": 12,
   "metadata": {},
   "outputs": [
    {
     "name": "stdout",
     "output_type": "stream",
     "text": [
      "ChainMap({'data': ChainMap({'input_root': '/dev/path/inputs',\n",
      "                            'numerics': ChainMap({'type': 'float'},\n",
      "                                                 {'precision': 6,\n",
      "                                                  'type': 'Decimal'}),\n",
      "                            'operators': {'add': '__add__'},\n",
      "                            'output_root': '/dev/path/outputs'},\n",
      "                           {'input_root': '/default/path/inputs',\n",
      "                            'numerics': {'precision': 6, 'type': 'Decimal'},\n",
      "                            'output_root': '/default/path/outputs'}),\n",
      "          'database': ChainMap({'pwd': 'test', 'user': 'test'},\n",
      "                               {'db_name': 'deepdive',\n",
      "                                'port': 5432,\n",
      "                                'schema': 'public'}),\n",
      "          'logs': ChainMap({'format': '%(asctime)s: %(levelname)s: '\n",
      "                                      '%(clientip)s %(user)s %(filename)s '\n",
      "                                      '%(funcName)s %(message)s',\n",
      "                            'level': 'trace'},\n",
      "                           {'format': '%(asctime)s: %(levelname)s: '\n",
      "                                      '%(clientip)s %(user)s %(message)s',\n",
      "                            'level': 'info'})},\n",
      "         {'data': {'input_root': '/default/path/inputs',\n",
      "                   'numerics': {'precision': 6, 'type': 'Decimal'},\n",
      "                   'output_root': '/default/path/outputs'},\n",
      "          'database': {'db_name': 'deepdive', 'port': 5432, 'schema': 'public'},\n",
      "          'logs': {'format': '%(asctime)s: %(levelname)s: %(clientip)s '\n",
      "                             '%(user)s %(message)s',\n",
      "                   'level': 'info'}})\n"
     ]
    }
   ],
   "source": [
    "pprint(dev)"
   ]
  },
  {
   "cell_type": "markdown",
   "metadata": {},
   "source": [
    "This means that we can lookup the log level for example, which we know should be `trace` for our development environment:"
   ]
  },
  {
   "cell_type": "code",
   "execution_count": 13,
   "metadata": {},
   "outputs": [
    {
     "data": {
      "text/plain": [
       "'trace'"
      ]
     },
     "execution_count": 13,
     "metadata": {},
     "output_type": "execute_result"
    }
   ],
   "source": [
    "dev['logs']['level']"
   ]
  },
  {
   "cell_type": "markdown",
   "metadata": {},
   "source": [
    "If instead we load up our production environment:"
   ]
  },
  {
   "cell_type": "code",
   "execution_count": 14,
   "metadata": {},
   "outputs": [],
   "source": [
    "d3 = load_settings('prod')\n",
    "prod = chain_recursive(d3, d1)"
   ]
  },
  {
   "cell_type": "code",
   "execution_count": 15,
   "metadata": {},
   "outputs": [
    {
     "data": {
      "text/plain": [
       "'info'"
      ]
     },
     "execution_count": 15,
     "metadata": {},
     "output_type": "execute_result"
    }
   ],
   "source": [
    "prod['logs']['level']"
   ]
  },
  {
   "cell_type": "markdown",
   "metadata": {},
   "source": [
    "and the database port, from the common settings:"
   ]
  },
  {
   "cell_type": "code",
   "execution_count": 16,
   "metadata": {},
   "outputs": [
    {
     "data": {
      "text/plain": [
       "5432"
      ]
     },
     "execution_count": 16,
     "metadata": {},
     "output_type": "execute_result"
    }
   ],
   "source": [
    "prod['database']['port']"
   ]
  },
  {
   "cell_type": "markdown",
   "metadata": {},
   "source": [
    "but, we have the override for the user:"
   ]
  },
  {
   "cell_type": "code",
   "execution_count": 17,
   "metadata": {},
   "outputs": [
    {
     "data": {
      "text/plain": [
       "'$PG_USER'"
      ]
     },
     "execution_count": 17,
     "metadata": {},
     "output_type": "execute_result"
    }
   ],
   "source": [
    "prod['database']['user']"
   ]
  },
  {
   "cell_type": "markdown",
   "metadata": {},
   "source": [
    "So now, let's package this up in a neat function for our users:"
   ]
  },
  {
   "cell_type": "code",
   "execution_count": 18,
   "metadata": {},
   "outputs": [],
   "source": [
    "def settings(env):\n",
    "    common_settings = load_settings('common')\n",
    "    env_settings = load_settings(env)\n",
    "    return chain_recursive(env_settings, common_settings)"
   ]
  },
  {
   "cell_type": "code",
   "execution_count": 19,
   "metadata": {},
   "outputs": [],
   "source": [
    "prod = settings('prod')"
   ]
  },
  {
   "cell_type": "code",
   "execution_count": 20,
   "metadata": {},
   "outputs": [
    {
     "data": {
      "text/plain": [
       "'$PG_USER'"
      ]
     },
     "execution_count": 20,
     "metadata": {},
     "output_type": "execute_result"
    }
   ],
   "source": [
    "prod['database']['user']"
   ]
  },
  {
   "cell_type": "code",
   "execution_count": 21,
   "metadata": {},
   "outputs": [
    {
     "data": {
      "text/plain": [
       "'trace'"
      ]
     },
     "execution_count": 21,
     "metadata": {},
     "output_type": "execute_result"
    }
   ],
   "source": [
    "dev = settings('dev')\n",
    "dev['logs']['level']"
   ]
  },
  {
   "cell_type": "markdown",
   "metadata": {},
   "source": [
    "Let's also check some deeper nested dictionaries:"
   ]
  },
  {
   "cell_type": "code",
   "execution_count": 22,
   "metadata": {},
   "outputs": [
    {
     "data": {
      "text/plain": [
       "'Decimal'"
      ]
     },
     "execution_count": 22,
     "metadata": {},
     "output_type": "execute_result"
    }
   ],
   "source": [
    "prod['data']['numerics']['type']"
   ]
  },
  {
   "cell_type": "code",
   "execution_count": 23,
   "metadata": {},
   "outputs": [
    {
     "data": {
      "text/plain": [
       "'float'"
      ]
     },
     "execution_count": 23,
     "metadata": {},
     "output_type": "execute_result"
    }
   ],
   "source": [
    "dev['data']['numerics']['type']"
   ]
  },
  {
   "cell_type": "code",
   "execution_count": 24,
   "metadata": {},
   "outputs": [
    {
     "data": {
      "text/plain": [
       "{'add': '__add__'}"
      ]
     },
     "execution_count": 24,
     "metadata": {},
     "output_type": "execute_result"
    }
   ],
   "source": [
    "dev['data']['operators']"
   ]
  },
  {
   "cell_type": "markdown",
   "metadata": {},
   "source": [
    "So this seems to work just fine. You may want to further refine this to merge list type values as well - for example, `key1: [1, 2, 3]` in `common` and `key2: [3, 4, 5]` in `dev` might result in `key1: [1, 2, 3, 4, 5]`. This is a rarer requirement, but do note that the solution I present here will simply replace the entire list with what is in the `dev` file, not merge the two lists."
   ]
  }
 ],
 "metadata": {
  "kernelspec": {
   "display_name": "Python 3",
   "language": "python",
   "name": "python3"
  },
  "language_info": {
   "codemirror_mode": {
    "name": "ipython",
    "version": 3
   },
   "file_extension": ".py",
   "mimetype": "text/x-python",
   "name": "python",
   "nbconvert_exporter": "python",
   "pygments_lexer": "ipython3",
   "version": "3.6.7"
  }
 },
 "nbformat": 4,
 "nbformat_minor": 2
}

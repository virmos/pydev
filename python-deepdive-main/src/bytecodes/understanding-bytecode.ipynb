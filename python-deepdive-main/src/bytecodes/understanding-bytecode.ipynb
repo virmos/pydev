{
 "cells": [
  {
   "cell_type": "markdown",
   "metadata": {},
   "source": [
    "## Understanding Python Bytecode"
   ]
  },
  {
   "cell_type": "markdown",
   "metadata": {},
   "source": [
    "#### Reza Bagheri"
   ]
  },
  {
   "cell_type": "code",
   "execution_count": 448,
   "metadata": {},
   "outputs": [],
   "source": [
    "import dis, types\n",
    "import marshal, sys, timeit"
   ]
  },
  {
   "cell_type": "markdown",
   "metadata": {},
   "source": [
    "#### compile()"
   ]
  },
  {
   "cell_type": "code",
   "execution_count": 449,
   "metadata": {},
   "outputs": [
    {
     "data": {
      "text/plain": [
       "<code object <module> at 0x000002004B742F60, file \"\", line 2>"
      ]
     },
     "execution_count": 449,
     "metadata": {},
     "output_type": "execute_result"
    }
   ],
   "source": [
    "s='''\n",
    "a=5\n",
    "a+=1\n",
    "print(a)\n",
    "'''\n",
    "compile(s, \"\", \"exec\")"
   ]
  },
  {
   "cell_type": "code",
   "execution_count": 450,
   "metadata": {},
   "outputs": [
    {
     "data": {
      "text/plain": [
       "<code object <module> at 0x000002004B87A0C0, file \"\", line 1>"
      ]
     },
     "execution_count": 450,
     "metadata": {},
     "output_type": "execute_result"
    }
   ],
   "source": [
    "compile(\"a=5 \\na+=1 \\nprint(a)\", \"\", \"exec\")"
   ]
  },
  {
   "cell_type": "code",
   "execution_count": 451,
   "metadata": {},
   "outputs": [
    {
     "data": {
      "text/plain": [
       "<code object <module> at 0x000002004B87A270, file \"\", line 1>"
      ]
     },
     "execution_count": 451,
     "metadata": {},
     "output_type": "execute_result"
    }
   ],
   "source": [
    "compile(\"a+7\", \"\", \"eval\")"
   ]
  },
  {
   "cell_type": "code",
   "execution_count": 452,
   "metadata": {},
   "outputs": [],
   "source": [
    "# This does not work:\n",
    "#compile(\"a=a+1\", \"\", \"eval\")"
   ]
  },
  {
   "cell_type": "code",
   "execution_count": 453,
   "metadata": {},
   "outputs": [
    {
     "data": {
      "text/plain": [
       "<code object <module> at 0x000002004B87A300, file \"\", line 1>"
      ]
     },
     "execution_count": 453,
     "metadata": {},
     "output_type": "execute_result"
    }
   ],
   "source": [
    "compile(\"a=a+1\", \"\", \"single\")"
   ]
  },
  {
   "cell_type": "code",
   "execution_count": 454,
   "metadata": {},
   "outputs": [
    {
     "data": {
      "text/plain": [
       "code"
      ]
     },
     "execution_count": 454,
     "metadata": {},
     "output_type": "execute_result"
    }
   ],
   "source": [
    "c = compile(\"a=a+1\", \"\", \"single\")\n",
    "type(c)  # Output is: code"
   ]
  },
  {
   "cell_type": "code",
   "execution_count": 455,
   "metadata": {},
   "outputs": [
    {
     "name": "stdout",
     "output_type": "stream",
     "text": [
      "5\n"
     ]
    }
   ],
   "source": [
    "exec(compile(\"print(5)\", \"\", \"single\"))"
   ]
  },
  {
   "cell_type": "code",
   "execution_count": 456,
   "metadata": {},
   "outputs": [
    {
     "data": {
      "text/plain": [
       "<code object f at 0x000002004B742ED0, file \"<ipython-input-456-2b9217854dc7>\", line 1>"
      ]
     },
     "execution_count": 456,
     "metadata": {},
     "output_type": "execute_result"
    }
   ],
   "source": [
    "def f(n):\n",
    "    return n\n",
    "f.__code__"
   ]
  },
  {
   "cell_type": "code",
   "execution_count": 457,
   "metadata": {},
   "outputs": [
    {
     "data": {
      "text/plain": [
       "b'e\\x00d\\x00\\x83\\x01F\\x00d\\x01S\\x00'"
      ]
     },
     "execution_count": 457,
     "metadata": {},
     "output_type": "execute_result"
    }
   ],
   "source": [
    "c = compile(\"print(5)\", \"\", \"single\")\n",
    "c.co_code"
   ]
  },
  {
   "cell_type": "code",
   "execution_count": 458,
   "metadata": {},
   "outputs": [
    {
     "name": "stdout",
     "output_type": "stream",
     "text": [
      "101\n"
     ]
    },
    {
     "data": {
      "text/plain": [
       "'e'"
      ]
     },
     "execution_count": 458,
     "metadata": {},
     "output_type": "execute_result"
    }
   ],
   "source": [
    "print(c.co_code[0])\n",
    "chr(c.co_code[0])"
   ]
  },
  {
   "cell_type": "code",
   "execution_count": 459,
   "metadata": {},
   "outputs": [
    {
     "name": "stdout",
     "output_type": "stream",
     "text": [
      "131\n"
     ]
    },
    {
     "data": {
      "text/plain": [
       "'\\x83'"
      ]
     },
     "execution_count": 459,
     "metadata": {},
     "output_type": "execute_result"
    }
   ],
   "source": [
    "print(c.co_code[4])\n",
    "chr(c.co_code[4])"
   ]
  },
  {
   "cell_type": "markdown",
   "metadata": {},
   "source": [
    "#### Bytecode details"
   ]
  },
  {
   "cell_type": "code",
   "execution_count": 460,
   "metadata": {},
   "outputs": [
    {
     "name": "stdout",
     "output_type": "stream",
     "text": [
      "100 0 90 0 100 1 83 0 "
     ]
    }
   ],
   "source": [
    "bytecode = b'd\\x00Z\\x00d\\x01S\\x00'\n",
    "for byte in bytecode:\n",
    "    print(byte, end=' ')"
   ]
  },
  {
   "cell_type": "code",
   "execution_count": 461,
   "metadata": {},
   "outputs": [
    {
     "data": {
      "text/plain": [
       "'LOAD_CONST'"
      ]
     },
     "execution_count": 461,
     "metadata": {},
     "output_type": "execute_result"
    }
   ],
   "source": [
    "dis.opname[100]"
   ]
  },
  {
   "cell_type": "code",
   "execution_count": 462,
   "metadata": {},
   "outputs": [
    {
     "data": {
      "text/plain": [
       "90"
      ]
     },
     "execution_count": 462,
     "metadata": {},
     "output_type": "execute_result"
    }
   ],
   "source": [
    "dis.HAVE_ARGUMENT"
   ]
  },
  {
   "cell_type": "code",
   "execution_count": 463,
   "metadata": {},
   "outputs": [
    {
     "data": {
      "text/plain": [
       "144"
      ]
     },
     "execution_count": 463,
     "metadata": {},
     "output_type": "execute_result"
    }
   ],
   "source": [
    "dis.EXTENDED_ARG"
   ]
  },
  {
   "cell_type": "markdown",
   "metadata": {},
   "source": [
    "#### Code object attributes"
   ]
  },
  {
   "cell_type": "code",
   "execution_count": 464,
   "metadata": {},
   "outputs": [],
   "source": [
    "# Listing 1\n",
    "s = '''\n",
    "a = 5\n",
    "b = 'text'\n",
    "def f(x):\n",
    "    return x\n",
    "f(5)\n",
    "'''\n",
    "c=compile(s, \"\", \"exec\")"
   ]
  },
  {
   "cell_type": "code",
   "execution_count": 465,
   "metadata": {},
   "outputs": [
    {
     "data": {
      "text/plain": [
       "(5, 'text', <code object f at 0x000002004B87A5D0, file \"\", line 4>, 'f', None)"
      ]
     },
     "execution_count": 465,
     "metadata": {},
     "output_type": "execute_result"
    }
   ],
   "source": [
    "c.co_consts"
   ]
  },
  {
   "cell_type": "code",
   "execution_count": 466,
   "metadata": {},
   "outputs": [
    {
     "data": {
      "text/plain": [
       "('a', 'b', 'f')"
      ]
     },
     "execution_count": 466,
     "metadata": {},
     "output_type": "execute_result"
    }
   ],
   "source": [
    "c.co_names"
   ]
  },
  {
   "cell_type": "code",
   "execution_count": 467,
   "metadata": {},
   "outputs": [
    {
     "data": {
      "text/plain": [
       "(3,)"
      ]
     },
     "execution_count": 467,
     "metadata": {},
     "output_type": "execute_result"
    }
   ],
   "source": [
    "s = \"3 * a\"\n",
    "c1 = compile(s, \"\", \"eval\")\n",
    "c1.co_consts"
   ]
  },
  {
   "cell_type": "code",
   "execution_count": 468,
   "metadata": {},
   "outputs": [
    {
     "data": {
      "text/plain": [
       "(None, 2)"
      ]
     },
     "execution_count": 468,
     "metadata": {},
     "output_type": "execute_result"
    }
   ],
   "source": [
    "def f(x):\n",
    "    a = x * 2\n",
    "    return a\n",
    "f.__code__.co_consts"
   ]
  },
  {
   "cell_type": "code",
   "execution_count": 469,
   "metadata": {},
   "outputs": [],
   "source": [
    "# Listing 2\n",
    "def f(x):\n",
    "    z = 3\n",
    "    t = 5\n",
    "    def g(y):\n",
    "        return t*x + y\n",
    "    return g\n",
    "a = 5\n",
    "b = 1\n",
    "h = f(a)"
   ]
  },
  {
   "cell_type": "code",
   "execution_count": 470,
   "metadata": {},
   "outputs": [
    {
     "data": {
      "text/plain": [
       "('x', 'z', 'g')"
      ]
     },
     "execution_count": 470,
     "metadata": {},
     "output_type": "execute_result"
    }
   ],
   "source": [
    "f.__code__.co_varnames"
   ]
  },
  {
   "cell_type": "code",
   "execution_count": 471,
   "metadata": {},
   "outputs": [
    {
     "data": {
      "text/plain": [
       "('t', 'x')"
      ]
     },
     "execution_count": 471,
     "metadata": {},
     "output_type": "execute_result"
    }
   ],
   "source": [
    "f.__code__.co_cellvars"
   ]
  },
  {
   "cell_type": "code",
   "execution_count": 472,
   "metadata": {},
   "outputs": [
    {
     "data": {
      "text/plain": [
       "('t', 'x')"
      ]
     },
     "execution_count": 472,
     "metadata": {},
     "output_type": "execute_result"
    }
   ],
   "source": [
    "h.__code__.co_freevars"
   ]
  },
  {
   "cell_type": "markdown",
   "metadata": {},
   "source": [
    "#### dis module categories"
   ]
  },
  {
   "cell_type": "code",
   "execution_count": 473,
   "metadata": {},
   "outputs": [
    {
     "data": {
      "text/plain": [
       "[100]"
      ]
     },
     "execution_count": 473,
     "metadata": {},
     "output_type": "execute_result"
    }
   ],
   "source": [
    "dis.hasconst"
   ]
  },
  {
   "cell_type": "code",
   "execution_count": 474,
   "metadata": {},
   "outputs": [
    {
     "data": {
      "text/plain": [
       "[90, 91, 95, 96, 97, 98, 101, 106, 108, 109, 116, 160]"
      ]
     },
     "execution_count": 474,
     "metadata": {},
     "output_type": "execute_result"
    }
   ],
   "source": [
    "dis.hasname"
   ]
  },
  {
   "cell_type": "code",
   "execution_count": 475,
   "metadata": {},
   "outputs": [
    {
     "data": {
      "text/plain": [
       "[124, 125, 126]"
      ]
     },
     "execution_count": 475,
     "metadata": {},
     "output_type": "execute_result"
    }
   ],
   "source": [
    "dis.haslocal"
   ]
  },
  {
   "cell_type": "code",
   "execution_count": 476,
   "metadata": {},
   "outputs": [
    {
     "data": {
      "text/plain": [
       "[135, 136, 137, 138, 148]"
      ]
     },
     "execution_count": 476,
     "metadata": {},
     "output_type": "execute_result"
    }
   ],
   "source": [
    "dis.hasfree"
   ]
  },
  {
   "cell_type": "code",
   "execution_count": 477,
   "metadata": {},
   "outputs": [
    {
     "data": {
      "text/plain": [
       "[107]"
      ]
     },
     "execution_count": 477,
     "metadata": {},
     "output_type": "execute_result"
    }
   ],
   "source": [
    "dis.hascompare"
   ]
  },
  {
   "cell_type": "code",
   "execution_count": 478,
   "metadata": {},
   "outputs": [
    {
     "data": {
      "text/plain": [
       "[93, 110, 120, 121, 122, 143, 154]"
      ]
     },
     "execution_count": 478,
     "metadata": {},
     "output_type": "execute_result"
    }
   ],
   "source": [
    "dis.hasjrel"
   ]
  },
  {
   "cell_type": "markdown",
   "metadata": {},
   "source": [
    "### Disassembling the bytecode"
   ]
  },
  {
   "cell_type": "code",
   "execution_count": 479,
   "metadata": {},
   "outputs": [],
   "source": [
    "def unpack_op(bytecode): \n",
    "    '''Unpacks the offset, opcode and opaarg for each pair of bytes in the bytecode.\n",
    "    \n",
    "    Parameters\n",
    "    =========================================\n",
    "    bytecode (bytes): the bytecode of a code object\n",
    "    \n",
    "    Generates\n",
    "    =========================================\n",
    "    tuple: a tuple of offset, opcode and oparg for each pair of bytes in the bytecode\n",
    "    '''\n",
    "    extended_arg = 0\n",
    "    for i in range(0, len(bytecode), 2):\n",
    "        opcode = bytecode[i]\n",
    "        if opcode >= dis.HAVE_ARGUMENT:\n",
    "            oparg = bytecode[i+1] | extended_arg\n",
    "            extended_arg = (oparg << 8) if opcode == dis.EXTENDED_ARG else 0\n",
    "        else:\n",
    "            oparg = None\n",
    "        yield (i, opcode, oparg)"
   ]
  },
  {
   "cell_type": "code",
   "execution_count": 480,
   "metadata": {},
   "outputs": [],
   "source": [
    "def find_linestarts(codeobj):\n",
    "    \"\"\"Finds the offsets in a bytecode which are the start a line in the source code.\n",
    "    Parameters\n",
    "    =========================================\n",
    "    codeobj (code): code object\n",
    "    \n",
    "    Returns\n",
    "    =========================================\n",
    "    dict: a dictionary with offsets as the keys and their line numbers as their values of offsets\n",
    "    \"\"\"\n",
    "    byte_increments = codeobj.co_lnotab[0::2]\n",
    "    line_increments = codeobj.co_lnotab[1::2]\n",
    "    byte = 0\n",
    "    line = codeobj.co_firstlineno\n",
    "    linestart_dict = {byte: line}      \n",
    "    for byte_incr, line_incr in zip(byte_increments,\n",
    "                                    line_increments):\n",
    "        byte += byte_incr\n",
    "        if line_incr >= 0x80:\n",
    "            line_incr -= 0x100\n",
    "        line += line_incr\n",
    "        linestart_dict[byte]=line\n",
    "    return linestart_dict"
   ]
  },
  {
   "cell_type": "code",
   "execution_count": 481,
   "metadata": {},
   "outputs": [],
   "source": [
    "def get_argvalue(offset, codeobj, opcode, oparg):\n",
    "    '''Finds the human friendly meaning of each oparg in an instruction.\n",
    "    \n",
    "    Parameters\n",
    "    =========================================\n",
    "    offset (int): offset of the instruction\n",
    "    codeobj (code): code object\n",
    "    opcode (int): opcode of the instruction\n",
    "    oparg (int): oparg of the instruction\n",
    "    \n",
    "    Returns\n",
    "    =========================================\n",
    "    argval: the human friendly meaning of the oparg in an instruction. \n",
    "    '''\n",
    "    constants= codeobj.co_consts\n",
    "    varnames = codeobj.co_varnames\n",
    "    names = codeobj.co_names\n",
    "    cell_names = codeobj.co_cellvars + codeobj.co_freevars\n",
    "    argval = None\n",
    "    if opcode in dis.hasconst:\n",
    "        if constants is not None:\n",
    "            argval = constants[oparg]\n",
    "            if type(argval)==str or argval==None:\n",
    "                 argval = repr(argval)\n",
    "    elif opcode in dis.hasname:\n",
    "        if names is not None:\n",
    "            argval = names[oparg]\n",
    "    elif opcode in dis.hasjrel:\n",
    "        argval = offset + 2 + oparg\n",
    "        argval = \"to \" + repr(argval)\n",
    "    elif opcode in dis.haslocal:\n",
    "        if varnames is not None:\n",
    "            argval = varnames[oparg]\n",
    "    elif opcode in dis.hascompare:\n",
    "        argval = dis.cmp_op[oparg]\n",
    "    elif opcode in dis.hasfree:\n",
    "        if cell_names is not None:\n",
    "            argval = cell_names[oparg]\n",
    "    return argval"
   ]
  },
  {
   "cell_type": "code",
   "execution_count": 482,
   "metadata": {},
   "outputs": [],
   "source": [
    "def findlabels(codeobj):\n",
    "    '''Finds all the offsets in the bytecode which are jump targets.\n",
    "    \n",
    "    Parameters\n",
    "    =========================================\n",
    "    codeobj (code): code object\n",
    "    \n",
    "    Returns\n",
    "    =========================================\n",
    "    list: list of offsets\n",
    "    '''\n",
    "    bytecode = codeobj.co_code\n",
    "    labels = []\n",
    "    for offset, opcode, oparg in unpack_op(bytecode):\n",
    "            if opcode in dis.hasjrel:\n",
    "                label = offset + 2 + oparg\n",
    "            elif opcode in dis.hasjabs:\n",
    "                label = oparg\n",
    "            else:\n",
    "                continue\n",
    "            if label not in labels:\n",
    "                labels.append(label)\n",
    "    return labels"
   ]
  },
  {
   "cell_type": "code",
   "execution_count": 483,
   "metadata": {},
   "outputs": [],
   "source": [
    "def disassemble(c): \n",
    "    '''Disassebmles and prints the bytecode of a code object.\n",
    "    \n",
    "    Parameters\n",
    "    =========================================\n",
    "    c (code): code object        \n",
    "    '''    \n",
    "    if not(hasattr(c, 'co_code')):\n",
    "        raise TypeError(\"The argument should be a code object\")\n",
    "    code_objects = []\n",
    "    linestarts = find_linestarts(c)\n",
    "    labels = findlabels(c)\n",
    "    bytecode = c.co_code\n",
    "    extended_arg = 0\n",
    "    for offset, opcode, oparg in unpack_op(bytecode):\n",
    "        argvalue = get_argvalue(offset, c, opcode, oparg)\n",
    "        if hasattr(argvalue, 'co_code'):\n",
    "            code_objects.append(argvalue)\n",
    "        line_start = linestarts.get(offset, None)\n",
    "        dis_text =  \"{0:4}{1:2}{2:5} {3:<22} {4:3} {5}\".format(str(line_start or ''),                                                        \n",
    "                                                        \">>\" if offset in labels else \"\",\n",
    "                                                        offset, dis.opname[opcode],                                                             \n",
    "                                                        oparg if oparg is not None else '',\n",
    "                                                        \"(\" + str(argvalue) + \")\" if argvalue is not \n",
    "                                                                                        None else '')                                                   \n",
    "        if (line_start and offset):\n",
    "            print() \n",
    "        print(dis_text)\n",
    "    for oc in code_objects:\n",
    "        print(\"\\nDisassembly of{}:\\n\".format(oc))\n",
    "        disassemble(oc)"
   ]
  },
  {
   "cell_type": "code",
   "execution_count": 484,
   "metadata": {},
   "outputs": [
    {
     "name": "stdout",
     "output_type": "stream",
     "text": [
      "1         0 LOAD_CONST               0 (0)\n",
      "          2 STORE_NAME               0 (a)\n",
      "\n",
      "2         4 SETUP_LOOP              28 (to 34)\n",
      "    >>    6 LOAD_NAME                0 (a)\n",
      "          8 LOAD_CONST               1 (10)\n",
      "         10 COMPARE_OP               0 (<)\n",
      "         12 POP_JUMP_IF_FALSE       32 \n",
      "\n",
      "3        14 LOAD_NAME                1 (print)\n",
      "         16 LOAD_NAME                0 (a)\n",
      "         18 CALL_FUNCTION            1 \n",
      "         20 POP_TOP                    \n",
      "\n",
      "4        22 LOAD_NAME                0 (a)\n",
      "         24 LOAD_CONST               2 (1)\n",
      "         26 INPLACE_ADD                \n",
      "         28 STORE_NAME               0 (a)\n",
      "         30 JUMP_ABSOLUTE            6 \n",
      "    >>   32 POP_BLOCK                  \n",
      "    >>   34 LOAD_CONST               3 (None)\n",
      "         36 RETURN_VALUE               \n"
     ]
    }
   ],
   "source": [
    "s='''a=0\n",
    "while a<10:\n",
    "    print(a)\n",
    "    a += 1\n",
    "'''\n",
    "c=compile(s, \"\", \"exec\")\n",
    "disassemble(c)"
   ]
  },
  {
   "cell_type": "code",
   "execution_count": 485,
   "metadata": {},
   "outputs": [
    {
     "name": "stdout",
     "output_type": "stream",
     "text": [
      "  1           0 LOAD_CONST               0 (0)\n",
      "              2 STORE_NAME               0 (a)\n",
      "\n",
      "  2           4 SETUP_LOOP              28 (to 34)\n",
      "        >>    6 LOAD_NAME                0 (a)\n",
      "              8 LOAD_CONST               1 (10)\n",
      "             10 COMPARE_OP               0 (<)\n",
      "             12 POP_JUMP_IF_FALSE       32\n",
      "\n",
      "  3          14 LOAD_NAME                1 (print)\n",
      "             16 LOAD_NAME                0 (a)\n",
      "             18 CALL_FUNCTION            1\n",
      "             20 POP_TOP\n",
      "\n",
      "  4          22 LOAD_NAME                0 (a)\n",
      "             24 LOAD_CONST               2 (1)\n",
      "             26 INPLACE_ADD\n",
      "             28 STORE_NAME               0 (a)\n",
      "             30 JUMP_ABSOLUTE            6\n",
      "        >>   32 POP_BLOCK\n",
      "        >>   34 LOAD_CONST               3 (None)\n",
      "             36 RETURN_VALUE\n"
     ]
    }
   ],
   "source": [
    "# You can also use the dis() function in dis module\n",
    "dis.dis(c)"
   ]
  },
  {
   "cell_type": "markdown",
   "metadata": {},
   "source": [
    "#### Disassembling a pyc file"
   ]
  },
  {
   "cell_type": "code",
   "execution_count": 486,
   "metadata": {},
   "outputs": [],
   "source": [
    "# To compile the sample.py file in this folder, in the termina write:\n",
    "# python -m compileall sample.py"
   ]
  },
  {
   "cell_type": "code",
   "execution_count": 487,
   "metadata": {},
   "outputs": [
    {
     "name": "stdout",
     "output_type": "stream",
     "text": [
      "1         0 LOAD_CONST               0 (0)\n",
      "          2 STORE_NAME               0 (a)\n",
      "\n",
      "2         4 SETUP_LOOP              28 (to 34)\n",
      "    >>    6 LOAD_NAME                0 (a)\n",
      "          8 LOAD_CONST               1 (10)\n",
      "         10 COMPARE_OP               0 (<)\n",
      "         12 POP_JUMP_IF_FALSE       32 \n",
      "\n",
      "3        14 LOAD_NAME                1 (print)\n",
      "         16 LOAD_NAME                0 (a)\n",
      "         18 CALL_FUNCTION            1 \n",
      "         20 POP_TOP                    \n",
      "\n",
      "4        22 LOAD_NAME                0 (a)\n",
      "         24 LOAD_CONST               2 (1)\n",
      "         26 INPLACE_ADD                \n",
      "         28 STORE_NAME               0 (a)\n",
      "         30 JUMP_ABSOLUTE            6 \n",
      "    >>   32 POP_BLOCK                  \n",
      "    >>   34 LOAD_CONST               3 (None)\n",
      "         36 RETURN_VALUE               \n"
     ]
    }
   ],
   "source": [
    "header_size = 8\n",
    "if sys.version_info >= (3, 6):\n",
    "    header_size = 12\n",
    "if sys.version_info >= (3, 7):\n",
    "    header_size = 16\n",
    "with open(r\"__pycache__\\sample.cpython-37.pyc\", \"rb\") as f:\n",
    "    metadata = f.read(header_size)  \n",
    "    code_obj = marshal.load(f)\n",
    "    disassemble(code_obj)"
   ]
  },
  {
   "cell_type": "markdown",
   "metadata": {},
   "source": [
    "### Bytecode operations"
   ]
  },
  {
   "cell_type": "code",
   "execution_count": 488,
   "metadata": {},
   "outputs": [
    {
     "name": "stdout",
     "output_type": "stream",
     "text": [
      "1         0 LOAD_CONST               0 (1)\n",
      "          2 STORE_NAME               0 (a)\n",
      "\n",
      "2         4 LOAD_CONST               1 (2)\n",
      "          6 STORE_NAME               1 (b)\n",
      "\n",
      "3         8 LOAD_NAME                0 (a)\n",
      "         10 LOAD_NAME                1 (b)\n",
      "         12 BINARY_ADD                 \n",
      "         14 STORE_NAME               2 (c)\n",
      "         16 LOAD_CONST               2 (None)\n",
      "         18 RETURN_VALUE               \n"
     ]
    }
   ],
   "source": [
    "s='''a=1\n",
    "b=2\n",
    "c=a+b\n",
    "'''\n",
    "c=compile(s, \"\", \"exec\")\n",
    "disassemble(c)"
   ]
  },
  {
   "cell_type": "code",
   "execution_count": 489,
   "metadata": {},
   "outputs": [
    {
     "data": {
      "text/plain": [
       "(1, 2, None)"
      ]
     },
     "execution_count": 489,
     "metadata": {},
     "output_type": "execute_result"
    }
   ],
   "source": [
    "c.co_consts"
   ]
  },
  {
   "cell_type": "code",
   "execution_count": 490,
   "metadata": {},
   "outputs": [
    {
     "data": {
      "text/plain": [
       "('a', 'b', 'c')"
      ]
     },
     "execution_count": 490,
     "metadata": {},
     "output_type": "execute_result"
    }
   ],
   "source": [
    "c.co_names"
   ]
  },
  {
   "cell_type": "markdown",
   "metadata": {},
   "source": [
    "#### Functions, global and local variables"
   ]
  },
  {
   "cell_type": "code",
   "execution_count": 491,
   "metadata": {},
   "outputs": [
    {
     "name": "stdout",
     "output_type": "stream",
     "text": [
      "1         0 LOAD_CONST               0 (1)\n",
      "          2 STORE_NAME               0 (a)\n",
      "\n",
      "2         4 LOAD_CONST               1 (2)\n",
      "          6 STORE_GLOBAL             1 (b)\n",
      "\n",
      "3         8 LOAD_CONST               2 (<code object f at 0x000002004B87AE40, file \"\", line 3>)\n",
      "         10 LOAD_CONST               3 ('f')\n",
      "         12 MAKE_FUNCTION            0 \n",
      "         14 STORE_NAME               2 (f)\n",
      "\n",
      "8        16 LOAD_NAME                2 (f)\n",
      "         18 LOAD_CONST               4 (4)\n",
      "         20 CALL_FUNCTION            1 \n",
      "         22 POP_TOP                    \n",
      "\n",
      "9        24 LOAD_NAME                3 (print)\n",
      "         26 LOAD_NAME                0 (a)\n",
      "         28 CALL_FUNCTION            1 \n",
      "         30 POP_TOP                    \n",
      "         32 LOAD_CONST               5 (None)\n",
      "         34 RETURN_VALUE               \n",
      "\n",
      "Disassembly of<code object f at 0x000002004B87AE40, file \"\", line 3>:\n",
      "\n",
      "5         0 LOAD_CONST               1 (3)\n",
      "          2 STORE_GLOBAL             0 (b)\n",
      "\n",
      "6         4 LOAD_FAST                0 (x)\n",
      "          6 LOAD_CONST               2 (1)\n",
      "          8 BINARY_ADD                 \n",
      "         10 STORE_FAST               1 (y)\n",
      "\n",
      "7        12 LOAD_FAST                1 (y)\n",
      "         14 RETURN_VALUE               \n"
     ]
    }
   ],
   "source": [
    "s='''a = 1\n",
    "b = 2\n",
    "def f(x):\n",
    "    global b\n",
    "    b = 3\n",
    "    y = x + 1\n",
    "    return y \n",
    "f(4)\n",
    "print(a)\n",
    "'''\n",
    "c=compile(s, \"\", \"exec\")\n",
    "disassemble(c)"
   ]
  },
  {
   "cell_type": "code",
   "execution_count": 492,
   "metadata": {},
   "outputs": [
    {
     "data": {
      "text/plain": [
       "(1, 2, <code object f at 0x000002004B87AE40, file \"\", line 3>, 'f', 4, None)"
      ]
     },
     "execution_count": 492,
     "metadata": {},
     "output_type": "execute_result"
    }
   ],
   "source": [
    "c.co_consts"
   ]
  },
  {
   "cell_type": "code",
   "execution_count": 493,
   "metadata": {},
   "outputs": [
    {
     "data": {
      "text/plain": [
       "('a', 'b', 'f', 'print')"
      ]
     },
     "execution_count": 493,
     "metadata": {},
     "output_type": "execute_result"
    }
   ],
   "source": [
    "c.co_names"
   ]
  },
  {
   "cell_type": "markdown",
   "metadata": {},
   "source": [
    "#### Function with a keyword argument"
   ]
  },
  {
   "cell_type": "code",
   "execution_count": 494,
   "metadata": {},
   "outputs": [
    {
     "name": "stdout",
     "output_type": "stream",
     "text": [
      "1         0 LOAD_CONST               0 (1)\n",
      "          2 STORE_NAME               0 (a)\n",
      "\n",
      "2         4 LOAD_CONST               1 (2)\n",
      "          6 STORE_GLOBAL             1 (b)\n",
      "\n",
      "3         8 LOAD_CONST               7 ((5,))\n",
      "         10 LOAD_CONST               3 (<code object f at 0x000002004B87A6F0, file \"\", line 3>)\n",
      "         12 LOAD_CONST               4 ('f')\n",
      "         14 MAKE_FUNCTION            1 \n",
      "         16 STORE_NAME               2 (f)\n",
      "\n",
      "8        18 LOAD_NAME                2 (f)\n",
      "         20 LOAD_CONST               5 (4)\n",
      "         22 CALL_FUNCTION            1 \n",
      "         24 POP_TOP                    \n",
      "\n",
      "9        26 LOAD_NAME                3 (print)\n",
      "         28 LOAD_NAME                0 (a)\n",
      "         30 CALL_FUNCTION            1 \n",
      "         32 POP_TOP                    \n",
      "         34 LOAD_CONST               6 (None)\n",
      "         36 RETURN_VALUE               \n",
      "\n",
      "Disassembly of<code object f at 0x000002004B87A6F0, file \"\", line 3>:\n",
      "\n",
      "5         0 LOAD_CONST               1 (3)\n",
      "          2 STORE_GLOBAL             0 (b)\n",
      "\n",
      "6         4 LOAD_FAST                0 (x)\n",
      "          6 LOAD_CONST               2 (1)\n",
      "          8 BINARY_ADD                 \n",
      "         10 STORE_FAST               1 (y)\n",
      "\n",
      "7        12 LOAD_FAST                1 (y)\n",
      "         14 RETURN_VALUE               \n"
     ]
    }
   ],
   "source": [
    "s='''a = 1\n",
    "b = 2\n",
    "def f(x=5):\n",
    "    global b\n",
    "    b = 3\n",
    "    y = x + 1\n",
    "    return y \n",
    "f(4)\n",
    "print(a)\n",
    "'''\n",
    "c=compile(s, \"\", \"exec\")\n",
    "disassemble(c)"
   ]
  },
  {
   "cell_type": "markdown",
   "metadata": {},
   "source": [
    "#### Built-in functions"
   ]
  },
  {
   "cell_type": "code",
   "execution_count": 495,
   "metadata": {},
   "outputs": [
    {
     "name": "stdout",
     "output_type": "stream",
     "text": [
      "1         0 LOAD_CONST               0 (1)\n",
      "          2 LOAD_CONST               1 (2)\n",
      "          4 LOAD_CONST               2 (3)\n",
      "          6 BUILD_LIST               3 \n",
      "          8 STORE_NAME               0 (a)\n",
      "         10 LOAD_CONST               3 (None)\n",
      "         12 RETURN_VALUE               \n"
     ]
    }
   ],
   "source": [
    "s='''a = [1, 2, 3]\n",
    "'''\n",
    "c=compile(s, \"\", \"exec\")\n",
    "disassemble(c)"
   ]
  },
  {
   "cell_type": "markdown",
   "metadata": {},
   "source": [
    "#### EXTENDED_ARG"
   ]
  },
  {
   "cell_type": "code",
   "execution_count": 496,
   "metadata": {},
   "outputs": [
    {
     "name": "stdout",
     "output_type": "stream",
     "text": [
      "1         0 LOAD_NAME                0 (print)\n",
      "          2 LOAD_CONST               0 ('*')\n",
      "          4 LOAD_CONST               0 ('*')\n",
      "          6 LOAD_CONST               0 ('*')\n",
      "          8 LOAD_CONST               0 ('*')\n",
      "         10 LOAD_CONST               0 ('*')\n",
      "         12 LOAD_CONST               0 ('*')\n",
      "         14 LOAD_CONST               0 ('*')\n",
      "         16 LOAD_CONST               0 ('*')\n",
      "         18 LOAD_CONST               0 ('*')\n",
      "         20 LOAD_CONST               0 ('*')\n",
      "         22 LOAD_CONST               0 ('*')\n",
      "         24 LOAD_CONST               0 ('*')\n",
      "         26 LOAD_CONST               0 ('*')\n",
      "         28 LOAD_CONST               0 ('*')\n",
      "         30 LOAD_CONST               0 ('*')\n",
      "         32 LOAD_CONST               0 ('*')\n",
      "         34 LOAD_CONST               0 ('*')\n",
      "         36 LOAD_CONST               0 ('*')\n",
      "         38 LOAD_CONST               0 ('*')\n",
      "         40 LOAD_CONST               0 ('*')\n",
      "         42 LOAD_CONST               0 ('*')\n",
      "         44 LOAD_CONST               0 ('*')\n",
      "         46 LOAD_CONST               0 ('*')\n",
      "         48 LOAD_CONST               0 ('*')\n",
      "         50 LOAD_CONST               0 ('*')\n",
      "         52 LOAD_CONST               0 ('*')\n",
      "         54 LOAD_CONST               0 ('*')\n",
      "         56 LOAD_CONST               0 ('*')\n",
      "         58 LOAD_CONST               0 ('*')\n",
      "         60 LOAD_CONST               0 ('*')\n",
      "         62 LOAD_CONST               0 ('*')\n",
      "         64 LOAD_CONST               0 ('*')\n",
      "         66 LOAD_CONST               0 ('*')\n",
      "         68 LOAD_CONST               0 ('*')\n",
      "         70 LOAD_CONST               0 ('*')\n",
      "         72 LOAD_CONST               0 ('*')\n",
      "         74 LOAD_CONST               0 ('*')\n",
      "         76 LOAD_CONST               0 ('*')\n",
      "         78 LOAD_CONST               0 ('*')\n",
      "         80 LOAD_CONST               0 ('*')\n",
      "         82 LOAD_CONST               0 ('*')\n",
      "         84 LOAD_CONST               0 ('*')\n",
      "         86 LOAD_CONST               0 ('*')\n",
      "         88 LOAD_CONST               0 ('*')\n",
      "         90 LOAD_CONST               0 ('*')\n",
      "         92 LOAD_CONST               0 ('*')\n",
      "         94 LOAD_CONST               0 ('*')\n",
      "         96 LOAD_CONST               0 ('*')\n",
      "         98 LOAD_CONST               0 ('*')\n",
      "        100 LOAD_CONST               0 ('*')\n",
      "        102 LOAD_CONST               0 ('*')\n",
      "        104 LOAD_CONST               0 ('*')\n",
      "        106 LOAD_CONST               0 ('*')\n",
      "        108 LOAD_CONST               0 ('*')\n",
      "        110 LOAD_CONST               0 ('*')\n",
      "        112 LOAD_CONST               0 ('*')\n",
      "        114 LOAD_CONST               0 ('*')\n",
      "        116 LOAD_CONST               0 ('*')\n",
      "        118 LOAD_CONST               0 ('*')\n",
      "        120 LOAD_CONST               0 ('*')\n",
      "        122 LOAD_CONST               0 ('*')\n",
      "        124 LOAD_CONST               0 ('*')\n",
      "        126 LOAD_CONST               0 ('*')\n",
      "        128 LOAD_CONST               0 ('*')\n",
      "        130 LOAD_CONST               0 ('*')\n",
      "        132 LOAD_CONST               0 ('*')\n",
      "        134 LOAD_CONST               0 ('*')\n",
      "        136 LOAD_CONST               0 ('*')\n",
      "        138 LOAD_CONST               0 ('*')\n",
      "        140 LOAD_CONST               0 ('*')\n",
      "        142 LOAD_CONST               0 ('*')\n",
      "        144 LOAD_CONST               0 ('*')\n",
      "        146 LOAD_CONST               0 ('*')\n",
      "        148 LOAD_CONST               0 ('*')\n",
      "        150 LOAD_CONST               0 ('*')\n",
      "        152 LOAD_CONST               0 ('*')\n",
      "        154 LOAD_CONST               0 ('*')\n",
      "        156 LOAD_CONST               0 ('*')\n",
      "        158 LOAD_CONST               0 ('*')\n",
      "        160 LOAD_CONST               0 ('*')\n",
      "        162 LOAD_CONST               0 ('*')\n",
      "        164 LOAD_CONST               0 ('*')\n",
      "        166 LOAD_CONST               0 ('*')\n",
      "        168 LOAD_CONST               0 ('*')\n",
      "        170 LOAD_CONST               0 ('*')\n",
      "        172 LOAD_CONST               0 ('*')\n",
      "        174 LOAD_CONST               0 ('*')\n",
      "        176 LOAD_CONST               0 ('*')\n",
      "        178 LOAD_CONST               0 ('*')\n",
      "        180 LOAD_CONST               0 ('*')\n",
      "        182 LOAD_CONST               0 ('*')\n",
      "        184 LOAD_CONST               0 ('*')\n",
      "        186 LOAD_CONST               0 ('*')\n",
      "        188 LOAD_CONST               0 ('*')\n",
      "        190 LOAD_CONST               0 ('*')\n",
      "        192 LOAD_CONST               0 ('*')\n",
      "        194 LOAD_CONST               0 ('*')\n",
      "        196 LOAD_CONST               0 ('*')\n",
      "        198 LOAD_CONST               0 ('*')\n",
      "        200 LOAD_CONST               0 ('*')\n",
      "        202 LOAD_CONST               0 ('*')\n",
      "        204 LOAD_CONST               0 ('*')\n",
      "        206 LOAD_CONST               0 ('*')\n",
      "        208 LOAD_CONST               0 ('*')\n",
      "        210 LOAD_CONST               0 ('*')\n",
      "        212 LOAD_CONST               0 ('*')\n",
      "        214 LOAD_CONST               0 ('*')\n",
      "        216 LOAD_CONST               0 ('*')\n",
      "        218 LOAD_CONST               0 ('*')\n",
      "        220 LOAD_CONST               0 ('*')\n",
      "        222 LOAD_CONST               0 ('*')\n",
      "        224 LOAD_CONST               0 ('*')\n",
      "        226 LOAD_CONST               0 ('*')\n",
      "        228 LOAD_CONST               0 ('*')\n",
      "        230 LOAD_CONST               0 ('*')\n",
      "        232 LOAD_CONST               0 ('*')\n",
      "        234 LOAD_CONST               0 ('*')\n",
      "        236 LOAD_CONST               0 ('*')\n",
      "        238 LOAD_CONST               0 ('*')\n",
      "        240 LOAD_CONST               0 ('*')\n",
      "        242 LOAD_CONST               0 ('*')\n",
      "        244 LOAD_CONST               0 ('*')\n",
      "        246 LOAD_CONST               0 ('*')\n",
      "        248 LOAD_CONST               0 ('*')\n",
      "        250 LOAD_CONST               0 ('*')\n",
      "        252 LOAD_CONST               0 ('*')\n",
      "        254 LOAD_CONST               0 ('*')\n",
      "        256 LOAD_CONST               0 ('*')\n",
      "        258 LOAD_CONST               0 ('*')\n",
      "        260 LOAD_CONST               0 ('*')\n",
      "        262 LOAD_CONST               0 ('*')\n",
      "        264 LOAD_CONST               0 ('*')\n",
      "        266 LOAD_CONST               0 ('*')\n",
      "        268 LOAD_CONST               0 ('*')\n",
      "        270 LOAD_CONST               0 ('*')\n",
      "        272 LOAD_CONST               0 ('*')\n",
      "        274 LOAD_CONST               0 ('*')\n",
      "        276 LOAD_CONST               0 ('*')\n",
      "        278 LOAD_CONST               0 ('*')\n",
      "        280 LOAD_CONST               0 ('*')\n",
      "        282 LOAD_CONST               0 ('*')\n",
      "        284 LOAD_CONST               0 ('*')\n",
      "        286 LOAD_CONST               0 ('*')\n",
      "        288 LOAD_CONST               0 ('*')\n",
      "        290 LOAD_CONST               0 ('*')\n",
      "        292 LOAD_CONST               0 ('*')\n",
      "        294 LOAD_CONST               0 ('*')\n",
      "        296 LOAD_CONST               0 ('*')\n",
      "        298 LOAD_CONST               0 ('*')\n",
      "        300 LOAD_CONST               0 ('*')\n",
      "        302 LOAD_CONST               0 ('*')\n",
      "        304 LOAD_CONST               0 ('*')\n",
      "        306 LOAD_CONST               0 ('*')\n",
      "        308 LOAD_CONST               0 ('*')\n",
      "        310 LOAD_CONST               0 ('*')\n",
      "        312 LOAD_CONST               0 ('*')\n",
      "        314 LOAD_CONST               0 ('*')\n",
      "        316 LOAD_CONST               0 ('*')\n",
      "        318 LOAD_CONST               0 ('*')\n",
      "        320 LOAD_CONST               0 ('*')\n",
      "        322 LOAD_CONST               0 ('*')\n",
      "        324 LOAD_CONST               0 ('*')\n",
      "        326 LOAD_CONST               0 ('*')\n",
      "        328 LOAD_CONST               0 ('*')\n",
      "        330 LOAD_CONST               0 ('*')\n",
      "        332 LOAD_CONST               0 ('*')\n",
      "        334 LOAD_CONST               0 ('*')\n",
      "        336 LOAD_CONST               0 ('*')\n",
      "        338 LOAD_CONST               0 ('*')\n",
      "        340 LOAD_CONST               0 ('*')\n",
      "        342 LOAD_CONST               0 ('*')\n",
      "        344 LOAD_CONST               0 ('*')\n",
      "        346 LOAD_CONST               0 ('*')\n",
      "        348 LOAD_CONST               0 ('*')\n",
      "        350 LOAD_CONST               0 ('*')\n",
      "        352 LOAD_CONST               0 ('*')\n",
      "        354 LOAD_CONST               0 ('*')\n",
      "        356 LOAD_CONST               0 ('*')\n",
      "        358 LOAD_CONST               0 ('*')\n",
      "        360 LOAD_CONST               0 ('*')\n",
      "        362 LOAD_CONST               0 ('*')\n",
      "        364 LOAD_CONST               0 ('*')\n",
      "        366 LOAD_CONST               0 ('*')\n",
      "        368 LOAD_CONST               0 ('*')\n",
      "        370 LOAD_CONST               0 ('*')\n",
      "        372 LOAD_CONST               0 ('*')\n",
      "        374 LOAD_CONST               0 ('*')\n",
      "        376 LOAD_CONST               0 ('*')\n",
      "        378 LOAD_CONST               0 ('*')\n",
      "        380 LOAD_CONST               0 ('*')\n",
      "        382 LOAD_CONST               0 ('*')\n",
      "        384 LOAD_CONST               0 ('*')\n",
      "        386 LOAD_CONST               0 ('*')\n",
      "        388 LOAD_CONST               0 ('*')\n",
      "        390 LOAD_CONST               0 ('*')\n",
      "        392 LOAD_CONST               0 ('*')\n",
      "        394 LOAD_CONST               0 ('*')\n",
      "        396 LOAD_CONST               0 ('*')\n",
      "        398 LOAD_CONST               0 ('*')\n",
      "        400 LOAD_CONST               0 ('*')\n",
      "        402 LOAD_CONST               0 ('*')\n",
      "        404 LOAD_CONST               0 ('*')\n",
      "        406 LOAD_CONST               0 ('*')\n",
      "        408 LOAD_CONST               0 ('*')\n",
      "        410 LOAD_CONST               0 ('*')\n",
      "        412 LOAD_CONST               0 ('*')\n",
      "        414 LOAD_CONST               0 ('*')\n",
      "        416 LOAD_CONST               0 ('*')\n",
      "        418 LOAD_CONST               0 ('*')\n",
      "        420 LOAD_CONST               0 ('*')\n",
      "        422 LOAD_CONST               0 ('*')\n",
      "        424 LOAD_CONST               0 ('*')\n",
      "        426 LOAD_CONST               0 ('*')\n",
      "        428 LOAD_CONST               0 ('*')\n",
      "        430 LOAD_CONST               0 ('*')\n",
      "        432 LOAD_CONST               0 ('*')\n",
      "        434 LOAD_CONST               0 ('*')\n",
      "        436 LOAD_CONST               0 ('*')\n",
      "        438 LOAD_CONST               0 ('*')\n",
      "        440 LOAD_CONST               0 ('*')\n",
      "        442 LOAD_CONST               0 ('*')\n",
      "        444 LOAD_CONST               0 ('*')\n",
      "        446 LOAD_CONST               0 ('*')\n",
      "        448 LOAD_CONST               0 ('*')\n",
      "        450 LOAD_CONST               0 ('*')\n",
      "        452 LOAD_CONST               0 ('*')\n",
      "        454 LOAD_CONST               0 ('*')\n",
      "        456 LOAD_CONST               0 ('*')\n",
      "        458 LOAD_CONST               0 ('*')\n",
      "        460 LOAD_CONST               0 ('*')\n",
      "        462 LOAD_CONST               0 ('*')\n",
      "        464 LOAD_CONST               0 ('*')\n",
      "        466 LOAD_CONST               0 ('*')\n",
      "        468 LOAD_CONST               0 ('*')\n",
      "        470 LOAD_CONST               0 ('*')\n",
      "        472 LOAD_CONST               0 ('*')\n",
      "        474 LOAD_CONST               0 ('*')\n",
      "        476 LOAD_CONST               0 ('*')\n",
      "        478 LOAD_CONST               0 ('*')\n",
      "        480 LOAD_CONST               0 ('*')\n",
      "        482 LOAD_CONST               0 ('*')\n",
      "        484 LOAD_CONST               0 ('*')\n",
      "        486 LOAD_CONST               0 ('*')\n",
      "        488 LOAD_CONST               0 ('*')\n",
      "        490 LOAD_CONST               0 ('*')\n",
      "        492 LOAD_CONST               0 ('*')\n",
      "        494 LOAD_CONST               0 ('*')\n",
      "        496 LOAD_CONST               0 ('*')\n",
      "        498 LOAD_CONST               0 ('*')\n",
      "        500 LOAD_CONST               0 ('*')\n",
      "        502 LOAD_CONST               0 ('*')\n",
      "        504 LOAD_CONST               0 ('*')\n",
      "        506 LOAD_CONST               0 ('*')\n",
      "        508 LOAD_CONST               0 ('*')\n",
      "        510 LOAD_CONST               0 ('*')\n",
      "        512 LOAD_CONST               0 ('*')\n",
      "        514 LOAD_CONST               0 ('*')\n",
      "        516 LOAD_CONST               0 ('*')\n",
      "        518 LOAD_CONST               0 ('*')\n",
      "        520 LOAD_CONST               0 ('*')\n",
      "        522 EXTENDED_ARG             1 \n",
      "        524 CALL_FUNCTION          260 \n",
      "        526 POP_TOP                    \n",
      "        528 LOAD_CONST               1 (None)\n",
      "        530 RETURN_VALUE               \n"
     ]
    }
   ],
   "source": [
    "s= 'print(' + '\"*\",' * 260 + ')'\n",
    "c = compile(s, \"\", \"exec\")\n",
    "disassemble(c)"
   ]
  },
  {
   "cell_type": "markdown",
   "metadata": {},
   "source": [
    "#### Conditional statements and jumps"
   ]
  },
  {
   "cell_type": "code",
   "execution_count": 497,
   "metadata": {},
   "outputs": [
    {
     "name": "stdout",
     "output_type": "stream",
     "text": [
      "1         0 LOAD_CONST               0 (1)\n",
      "          2 STORE_NAME               0 (a)\n",
      "\n",
      "2         4 LOAD_NAME                0 (a)\n",
      "          6 LOAD_CONST               1 (0)\n",
      "          8 COMPARE_OP               5 (>=)\n",
      "         10 POP_JUMP_IF_FALSE       18 \n",
      "\n",
      "3        12 LOAD_NAME                0 (a)\n",
      "         14 STORE_NAME               1 (b)\n",
      "         16 JUMP_FORWARD             6 (to 24)\n",
      "\n",
      "5   >>   18 LOAD_NAME                0 (a)\n",
      "         20 UNARY_NEGATIVE             \n",
      "         22 STORE_NAME               1 (b)\n",
      "    >>   24 LOAD_CONST               2 (None)\n",
      "         26 RETURN_VALUE               \n"
     ]
    }
   ],
   "source": [
    "s='''a = 1\n",
    "if a>=0:\n",
    "    b=a\n",
    "else:\n",
    "    b=-a\n",
    "'''\n",
    "c=compile(s, \"\", \"exec\")\n",
    "disassemble(c)"
   ]
  },
  {
   "cell_type": "code",
   "execution_count": 498,
   "metadata": {},
   "outputs": [
    {
     "name": "stdout",
     "output_type": "stream",
     "text": [
      "1         0 LOAD_CONST               0 (1)\n",
      "          2 STORE_NAME               0 (a)\n",
      "\n",
      "2         4 LOAD_CONST               1 (3)\n",
      "          6 STORE_NAME               1 (c)\n",
      "\n",
      "3         8 LOAD_NAME                0 (a)\n",
      "         10 LOAD_CONST               2 (0)\n",
      "         12 COMPARE_OP               5 (>=)\n",
      "         14 POP_JUMP_IF_FALSE       30 \n",
      "         16 LOAD_NAME                1 (c)\n",
      "         18 LOAD_CONST               1 (3)\n",
      "         20 COMPARE_OP               2 (==)\n",
      "         22 POP_JUMP_IF_FALSE       30 \n",
      "\n",
      "4        24 LOAD_NAME                0 (a)\n",
      "         26 STORE_NAME               2 (b)\n",
      "         28 JUMP_FORWARD             6 (to 36)\n",
      "\n",
      "6   >>   30 LOAD_NAME                0 (a)\n",
      "         32 UNARY_NEGATIVE             \n",
      "         34 STORE_NAME               2 (b)\n",
      "    >>   36 LOAD_CONST               3 (None)\n",
      "         38 RETURN_VALUE               \n"
     ]
    }
   ],
   "source": [
    "s='''a = 1\n",
    "c = 3\n",
    "if a>=0 and c==3:\n",
    "    b=a\n",
    "else:\n",
    "    b=-a\n",
    "'''\n",
    "c=compile(s, \"\", \"exec\")\n",
    "disassemble(c)"
   ]
  },
  {
   "cell_type": "markdown",
   "metadata": {},
   "source": [
    "#### Loops and block stack"
   ]
  },
  {
   "cell_type": "code",
   "execution_count": 499,
   "metadata": {},
   "outputs": [
    {
     "name": "stdout",
     "output_type": "stream",
     "text": [
      "1         0 SETUP_LOOP              24 (to 26)\n",
      "          2 LOAD_NAME                0 (range)\n",
      "          4 LOAD_CONST               0 (3)\n",
      "          6 CALL_FUNCTION            1 \n",
      "          8 GET_ITER                   \n",
      "    >>   10 FOR_ITER                12 (to 24)\n",
      "         12 STORE_NAME               1 (i)\n",
      "\n",
      "2        14 LOAD_NAME                2 (print)\n",
      "         16 LOAD_NAME                1 (i)\n",
      "         18 CALL_FUNCTION            1 \n",
      "         20 POP_TOP                    \n",
      "         22 JUMP_ABSOLUTE           10 \n",
      "    >>   24 POP_BLOCK                  \n",
      "    >>   26 LOAD_CONST               1 (None)\n",
      "         28 RETURN_VALUE               \n"
     ]
    }
   ],
   "source": [
    "s='''for i in range(3):\n",
    "    print(i)\n",
    "'''\n",
    "c=compile(s, \"\", \"exec\")\n",
    "disassemble(c)"
   ]
  },
  {
   "cell_type": "code",
   "execution_count": 500,
   "metadata": {},
   "outputs": [
    {
     "name": "stdout",
     "output_type": "stream",
     "text": [
      "1         0 SETUP_LOOP              26 (to 28)\n",
      "          2 LOAD_NAME                0 (range)\n",
      "          4 LOAD_CONST               0 (3)\n",
      "          6 CALL_FUNCTION            1 \n",
      "          8 GET_ITER                   \n",
      "    >>   10 FOR_ITER                14 (to 26)\n",
      "         12 STORE_NAME               1 (i)\n",
      "\n",
      "2        14 BREAK_LOOP                 \n",
      "\n",
      "3        16 LOAD_NAME                2 (print)\n",
      "         18 LOAD_NAME                1 (i)\n",
      "         20 CALL_FUNCTION            1 \n",
      "         22 POP_TOP                    \n",
      "         24 JUMP_ABSOLUTE           10 \n",
      "    >>   26 POP_BLOCK                  \n",
      "    >>   28 LOAD_CONST               1 (None)\n",
      "         30 RETURN_VALUE               \n"
     ]
    }
   ],
   "source": [
    "s='''for i in range(3):\n",
    "    break\n",
    "    print(i)\n",
    "'''\n",
    "c=compile(s, \"\", \"exec\")\n",
    "disassemble(c)"
   ]
  },
  {
   "cell_type": "markdown",
   "metadata": {},
   "source": [
    "### Creating the code object"
   ]
  },
  {
   "cell_type": "markdown",
   "metadata": {},
   "source": [
    "#### Code object attributes"
   ]
  },
  {
   "cell_type": "code",
   "execution_count": 501,
   "metadata": {},
   "outputs": [],
   "source": [
    "def f(a, b, *args, c, **kwargs):\n",
    "    d=1\n",
    "    def g():\n",
    "        return 1\n",
    "    g()\n",
    "    return 1"
   ]
  },
  {
   "cell_type": "code",
   "execution_count": 502,
   "metadata": {},
   "outputs": [
    {
     "data": {
      "text/plain": [
       "2"
      ]
     },
     "execution_count": 502,
     "metadata": {},
     "output_type": "execute_result"
    }
   ],
   "source": [
    "f.__code__.co_argcount"
   ]
  },
  {
   "cell_type": "code",
   "execution_count": 503,
   "metadata": {},
   "outputs": [
    {
     "data": {
      "text/plain": [
       "1"
      ]
     },
     "execution_count": 503,
     "metadata": {},
     "output_type": "execute_result"
    }
   ],
   "source": [
    "f.__code__.co_kwonlyargcount"
   ]
  },
  {
   "cell_type": "code",
   "execution_count": 504,
   "metadata": {},
   "outputs": [
    {
     "data": {
      "text/plain": [
       "7"
      ]
     },
     "execution_count": 504,
     "metadata": {},
     "output_type": "execute_result"
    }
   ],
   "source": [
    "f.__code__.co_nlocals"
   ]
  },
  {
   "cell_type": "code",
   "execution_count": 505,
   "metadata": {},
   "outputs": [
    {
     "data": {
      "text/plain": [
       "2"
      ]
     },
     "execution_count": 505,
     "metadata": {},
     "output_type": "execute_result"
    }
   ],
   "source": [
    "f.__code__.co_stacksize"
   ]
  },
  {
   "cell_type": "code",
   "execution_count": 506,
   "metadata": {},
   "outputs": [
    {
     "data": {
      "text/plain": [
       "79"
      ]
     },
     "execution_count": 506,
     "metadata": {},
     "output_type": "execute_result"
    }
   ],
   "source": [
    "f.__code__.co_flags"
   ]
  },
  {
   "cell_type": "code",
   "execution_count": 507,
   "metadata": {},
   "outputs": [
    {
     "data": {
      "text/plain": [
       "'0b1001111'"
      ]
     },
     "execution_count": 507,
     "metadata": {},
     "output_type": "execute_result"
    }
   ],
   "source": [
    "bin(f.__code__.co_flags)"
   ]
  },
  {
   "cell_type": "code",
   "execution_count": 508,
   "metadata": {},
   "outputs": [
    {
     "data": {
      "text/plain": [
       "'<ipython-input-501-cb7dfbcc0072>'"
      ]
     },
     "execution_count": 508,
     "metadata": {},
     "output_type": "execute_result"
    }
   ],
   "source": [
    "f.__code__.co_filename"
   ]
  },
  {
   "cell_type": "code",
   "execution_count": 509,
   "metadata": {},
   "outputs": [
    {
     "data": {
      "text/plain": [
       "'f'"
      ]
     },
     "execution_count": 509,
     "metadata": {},
     "output_type": "execute_result"
    }
   ],
   "source": [
    "f.__code__.co_name"
   ]
  },
  {
   "cell_type": "markdown",
   "metadata": {},
   "source": [
    "#### Bytecode injection"
   ]
  },
  {
   "cell_type": "code",
   "execution_count": 510,
   "metadata": {},
   "outputs": [],
   "source": [
    "def disassemble_to_list(c):\n",
    "    '''Disassebmles the bytecode of a code object and returns the result as a list.\n",
    "    \n",
    "    Parameters\n",
    "    =========================================\n",
    "    c (code): code object    \n",
    "    \n",
    "    Returns\n",
    "    =========================================\n",
    "    list: disassembled bytecode instructions\n",
    "    '''     \n",
    "    code_list = []\n",
    "    bytecode = c.co_code\n",
    "    for offset, opcode, oparg in unpack_op(bytecode):\n",
    "        argval = get_argvalue(offset, c, opcode, oparg)\n",
    "        if argval is not None:\n",
    "            if type(argval)==str:\n",
    "                argval = argval.strip(\"\\'\")\n",
    "            argval = None if argval=='None' else argval\n",
    "            code_list.append([dis.opname[opcode], argval])\n",
    "        else:\n",
    "            if oparg is not None:\n",
    "                code_list.append([dis.opname[opcode], oparg])\n",
    "            else:\n",
    "                code_list.append([dis.opname[opcode]])              \n",
    "    return code_list"
   ]
  },
  {
   "cell_type": "code",
   "execution_count": 511,
   "metadata": {},
   "outputs": [],
   "source": [
    "def get_oparg(offset, opcode, argval, constants, varnames, names, cell_names):\n",
    "    '''Finds the oparg of an instruction based on its human friendly meaning.\n",
    "    \n",
    "    Parameters\n",
    "    =========================================\n",
    "    offset (int): offset of the instruction\n",
    "    opcode (int): opcode of the instruction\n",
    "    argval: human friendly meaning of the oparg\n",
    "    constants (tuple): co_consts attribute of the code object\n",
    "    varnames (tuple): co_varnames attribute of the code object\n",
    "    names (tuple): co_names attribute of the code object\n",
    "    cell_names (tuple): co_freevars + co_cellvars attributes of the code object\n",
    "    \n",
    "    Returns\n",
    "    =========================================\n",
    "    int: the oparg of the instruction \n",
    "    '''\n",
    "    oparg = argval\n",
    "    if opcode in dis.hasconst:\n",
    "        if constants is not None:\n",
    "            oparg = constants.index(argval)\n",
    "    elif opcode in dis.hasname:\n",
    "        if names is not None:\n",
    "            oparg = names.index(argval)\n",
    "    elif opcode in dis.hasjrel:\n",
    "        argval = int(argval.split()[1])\n",
    "        oparg = argval - offset - 2 \n",
    "    elif opcode in dis.haslocal:\n",
    "        if varnames is not None:\n",
    "            oparg = varnames.index(argval)\n",
    "    elif opcode in dis.hascompare:\n",
    "        oparg = dis.cmp_op.index(argval)\n",
    "    elif opcode in dis.hasfree:\n",
    "        if cell_names is not None:\n",
    "            oparg = cell_names.index(argval)\n",
    "    return oparg"
   ]
  },
  {
   "cell_type": "code",
   "execution_count": 512,
   "metadata": {},
   "outputs": [],
   "source": [
    "def assemble(code_list, constants, varnames, names, cell_names):\n",
    "    '''Assembles the bytecode list into a bytes literal.\n",
    "    \n",
    "    Parameters\n",
    "    =========================================\n",
    "    code_list (list): disassembled bytecode list\n",
    "    constants (tuple): co_consts attribute of the code object\n",
    "    varnames (tuple): co_varnames attribute of the code object\n",
    "    names (tuple): co_names attribute of the code object\n",
    "    cell_names (tuple): co_freevars + co_cellvars attributes of the code object\n",
    "    \n",
    "    Returns\n",
    "    =========================================\n",
    "    bytes: the bytes literal of the disassembled bytescode list\n",
    "    '''\n",
    "    byte_list = []\n",
    "    for i, instruction in enumerate(code_list):\n",
    "        if len(instruction)==2:\n",
    "            opname, argval = instruction\n",
    "            opcode = dis.opname.index(opname)\n",
    "            oparg = get_oparg(i*2, opcode, argval, constants, varnames, names, cell_names)\n",
    "        else:\n",
    "            opname = instruction[0]\n",
    "            opcode = dis.opname.index(opname)\n",
    "            oparg = 0    \n",
    "        byte_list += [opcode, oparg]  \n",
    "    return(bytes(byte_list))"
   ]
  },
  {
   "cell_type": "code",
   "execution_count": 513,
   "metadata": {},
   "outputs": [],
   "source": [
    "def f(x, y):\n",
    "    return x + y\n",
    "c = f.__code__"
   ]
  },
  {
   "cell_type": "code",
   "execution_count": 514,
   "metadata": {},
   "outputs": [
    {
     "data": {
      "text/plain": [
       "7"
      ]
     },
     "execution_count": 514,
     "metadata": {},
     "output_type": "execute_result"
    }
   ],
   "source": [
    "f(2,5)"
   ]
  },
  {
   "cell_type": "code",
   "execution_count": 515,
   "metadata": {},
   "outputs": [],
   "source": [
    "disassembled_bytecode = disassemble_to_list(c)"
   ]
  },
  {
   "cell_type": "code",
   "execution_count": 516,
   "metadata": {},
   "outputs": [
    {
     "data": {
      "text/plain": [
       "[['LOAD_FAST', 'x'], ['LOAD_FAST', 'y'], ['BINARY_ADD'], ['RETURN_VALUE']]"
      ]
     },
     "execution_count": 516,
     "metadata": {},
     "output_type": "execute_result"
    }
   ],
   "source": [
    "disassembled_bytecode"
   ]
  },
  {
   "cell_type": "code",
   "execution_count": 517,
   "metadata": {},
   "outputs": [],
   "source": [
    "disassembled_bytecode[2] = ['BINARY_MULTIPLY']"
   ]
  },
  {
   "cell_type": "code",
   "execution_count": 518,
   "metadata": {},
   "outputs": [],
   "source": [
    "new_co_code= assemble(disassembled_bytecode, c.co_consts,\n",
    "                      c.co_varnames, c.co_names,\n",
    "                      c.co_cellvars+c.co_freevars)"
   ]
  },
  {
   "cell_type": "code",
   "execution_count": 519,
   "metadata": {},
   "outputs": [],
   "source": [
    "nc = types.CodeType(c.co_argcount, c.co_kwonlyargcount,\n",
    "                    c.co_nlocals, c.co_stacksize, c.co_flags,\n",
    "                    new_co_code, c.co_consts, c.co_names, \n",
    "                    c.co_varnames, c.co_filename, c.co_name, \n",
    "                    c.co_firstlineno, c.co_lnotab, \n",
    "                    cellvars = c.co_cellvars, freevars = c.co_freevars)\n",
    "f.__code__ = nc"
   ]
  },
  {
   "cell_type": "code",
   "execution_count": 520,
   "metadata": {},
   "outputs": [
    {
     "data": {
      "text/plain": [
       "10"
      ]
     },
     "execution_count": 520,
     "metadata": {},
     "output_type": "execute_result"
    }
   ],
   "source": [
    "f(2,5)"
   ]
  },
  {
   "cell_type": "markdown",
   "metadata": {},
   "source": [
    "#### Code object for closures"
   ]
  },
  {
   "cell_type": "code",
   "execution_count": 521,
   "metadata": {},
   "outputs": [],
   "source": [
    "def func(x):\n",
    "    def g(y):\n",
    "        return x + y \n",
    "    return g\n",
    "c = func.__code__"
   ]
  },
  {
   "cell_type": "code",
   "execution_count": 522,
   "metadata": {},
   "outputs": [
    {
     "name": "stdout",
     "output_type": "stream",
     "text": [
      "2         0 LOAD_CLOSURE             0 (x)\n",
      "          2 BUILD_TUPLE              1 \n",
      "          4 LOAD_CONST               1 (<code object g at 0x000002004C8A21E0, file \"<ipython-input-521-98e6b6af1a1c>\", line 2>)\n",
      "          6 LOAD_CONST               2 ('func.<locals>.g')\n",
      "          8 MAKE_FUNCTION            8 \n",
      "         10 STORE_FAST               1 (g)\n",
      "\n",
      "4        12 LOAD_FAST                1 (g)\n",
      "         14 RETURN_VALUE               \n",
      "\n",
      "Disassembly of<code object g at 0x000002004C8A21E0, file \"<ipython-input-521-98e6b6af1a1c>\", line 2>:\n",
      "\n",
      "3         0 LOAD_DEREF               0 (x)\n",
      "          2 LOAD_FAST                0 (y)\n",
      "          4 BINARY_ADD                 \n",
      "          6 RETURN_VALUE               \n"
     ]
    }
   ],
   "source": [
    "disassemble(c)"
   ]
  },
  {
   "cell_type": "code",
   "execution_count": 523,
   "metadata": {},
   "outputs": [
    {
     "data": {
      "text/plain": [
       "('x', 'g')"
      ]
     },
     "execution_count": 523,
     "metadata": {},
     "output_type": "execute_result"
    }
   ],
   "source": [
    "c.co_varnames"
   ]
  },
  {
   "cell_type": "code",
   "execution_count": 524,
   "metadata": {},
   "outputs": [
    {
     "data": {
      "text/plain": [
       "(('x',), ())"
      ]
     },
     "execution_count": 524,
     "metadata": {},
     "output_type": "execute_result"
    }
   ],
   "source": [
    "c.co_cellvars, c.co_freevars"
   ]
  },
  {
   "cell_type": "code",
   "execution_count": 525,
   "metadata": {},
   "outputs": [],
   "source": [
    "nc = types.CodeType(c.co_argcount, c.co_kwonlyargcount,\n",
    "                    c.co_nlocals, c.co_stacksize, c.co_flags,\n",
    "                    new_co_code, c.co_consts, c.co_names, \n",
    "                    c.co_varnames, c.co_filename, c.co_name, \n",
    "                    c.co_firstlineno, c.co_lnotab, \n",
    "                    cellvars = c.co_cellvars, freevars = c.co_freevars)"
   ]
  },
  {
   "cell_type": "code",
   "execution_count": 526,
   "metadata": {},
   "outputs": [
    {
     "data": {
      "text/plain": [
       "((), ())"
      ]
     },
     "execution_count": 526,
     "metadata": {},
     "output_type": "execute_result"
    }
   ],
   "source": [
    "# The new code object did not capture the cellvars\n",
    "nc.co_cellvars, nc.co_freevars"
   ]
  },
  {
   "cell_type": "markdown",
   "metadata": {},
   "source": [
    "#### Code optimization"
   ]
  },
  {
   "cell_type": "code",
   "execution_count": 527,
   "metadata": {},
   "outputs": [
    {
     "name": "stdout",
     "output_type": "stream",
     "text": [
      "t1= 3.8076129000110086\n",
      "t2= 3.2230119000014383\n"
     ]
    }
   ],
   "source": [
    "setup1='''import math\n",
    "mult = 2\n",
    "def f():\n",
    "    total = 0\n",
    "    i = 1\n",
    "    for i in range(1, 200):\n",
    "        total += mult * math.log(i)\n",
    "    return total\n",
    "'''\n",
    "\n",
    "setup2='''import math\n",
    "def f(): \n",
    "    log = math.log\n",
    "    mult = 2\n",
    "    total = 0\n",
    "    for i in range(1, 200):\n",
    "        total += mult * log(i)\n",
    "    return total\n",
    "'''\n",
    "\n",
    "t1 = timeit.timeit(stmt=\"f()\", setup=setup1, number=100000)\n",
    "t2 = timeit.timeit(stmt=\"f()\", setup=setup2, number=100000)\n",
    "print(\"t1=\", t1)\n",
    "print(\"t2=\", t2)"
   ]
  },
  {
   "cell_type": "code",
   "execution_count": 528,
   "metadata": {},
   "outputs": [
    {
     "name": "stdout",
     "output_type": "stream",
     "text": [
      "1         0 LOAD_CONST               0 (0)\n",
      "          2 LOAD_CONST               1 (None)\n",
      "          4 IMPORT_NAME              0 (math)\n",
      "          6 STORE_NAME               0 (math)\n",
      "\n",
      "2         8 LOAD_CONST               2 (2)\n",
      "         10 STORE_NAME               1 (mult)\n",
      "\n",
      "3        12 LOAD_CONST               3 (<code object f at 0x000002004C8A20C0, file \"\", line 3>)\n",
      "         14 LOAD_CONST               4 ('f')\n",
      "         16 MAKE_FUNCTION            0 \n",
      "         18 STORE_NAME               2 (f)\n",
      "         20 LOAD_CONST               1 (None)\n",
      "         22 RETURN_VALUE               \n",
      "\n",
      "Disassembly of<code object f at 0x000002004C8A20C0, file \"\", line 3>:\n",
      "\n",
      "4         0 LOAD_CONST               1 (0)\n",
      "          2 STORE_FAST               0 (total)\n",
      "\n",
      "5         4 LOAD_CONST               2 (1)\n",
      "          6 STORE_FAST               1 (i)\n",
      "\n",
      "6         8 SETUP_LOOP              36 (to 46)\n",
      "         10 LOAD_GLOBAL              0 (range)\n",
      "         12 LOAD_CONST               2 (1)\n",
      "         14 LOAD_CONST               3 (200)\n",
      "         16 CALL_FUNCTION            2 \n",
      "         18 GET_ITER                   \n",
      "    >>   20 FOR_ITER                22 (to 44)\n",
      "         22 STORE_FAST               1 (i)\n",
      "\n",
      "7        24 LOAD_FAST                0 (total)\n",
      "         26 LOAD_GLOBAL              1 (mult)\n",
      "         28 LOAD_GLOBAL              2 (math)\n",
      "         30 LOAD_METHOD              3 (log)\n",
      "         32 LOAD_FAST                1 (i)\n",
      "         34 CALL_METHOD              1 \n",
      "         36 BINARY_MULTIPLY            \n",
      "         38 INPLACE_ADD                \n",
      "         40 STORE_FAST               0 (total)\n",
      "         42 JUMP_ABSOLUTE           20 \n",
      "    >>   44 POP_BLOCK                  \n",
      "\n",
      "8   >>   46 LOAD_FAST                0 (total)\n",
      "         48 RETURN_VALUE               \n"
     ]
    }
   ],
   "source": [
    "c1=compile(setup1, \"\", \"exec\")\n",
    "disassemble(c1)"
   ]
  },
  {
   "cell_type": "code",
   "execution_count": 529,
   "metadata": {},
   "outputs": [
    {
     "name": "stdout",
     "output_type": "stream",
     "text": [
      "1         0 LOAD_CONST               0 (0)\n",
      "          2 LOAD_CONST               1 (None)\n",
      "          4 IMPORT_NAME              0 (math)\n",
      "          6 STORE_NAME               0 (math)\n",
      "\n",
      "2         8 LOAD_CONST               2 (<code object f at 0x000002004C8A25D0, file \"\", line 2>)\n",
      "         10 LOAD_CONST               3 ('f')\n",
      "         12 MAKE_FUNCTION            0 \n",
      "         14 STORE_NAME               1 (f)\n",
      "         16 LOAD_CONST               1 (None)\n",
      "         18 RETURN_VALUE               \n",
      "\n",
      "Disassembly of<code object f at 0x000002004C8A25D0, file \"\", line 2>:\n",
      "\n",
      "3         0 LOAD_GLOBAL              0 (math)\n",
      "          2 LOAD_ATTR                1 (log)\n",
      "          4 STORE_FAST               0 (log)\n",
      "\n",
      "4         6 LOAD_CONST               1 (2)\n",
      "          8 STORE_FAST               1 (mult)\n",
      "\n",
      "5        10 LOAD_CONST               2 (0)\n",
      "         12 STORE_FAST               2 (total)\n",
      "\n",
      "6        14 SETUP_LOOP              34 (to 50)\n",
      "         16 LOAD_GLOBAL              2 (range)\n",
      "         18 LOAD_CONST               3 (1)\n",
      "         20 LOAD_CONST               4 (200)\n",
      "         22 CALL_FUNCTION            2 \n",
      "         24 GET_ITER                   \n",
      "    >>   26 FOR_ITER                20 (to 48)\n",
      "         28 STORE_FAST               3 (i)\n",
      "\n",
      "7        30 LOAD_FAST                2 (total)\n",
      "         32 LOAD_FAST                1 (mult)\n",
      "         34 LOAD_FAST                0 (log)\n",
      "         36 LOAD_FAST                3 (i)\n",
      "         38 CALL_FUNCTION            1 \n",
      "         40 BINARY_MULTIPLY            \n",
      "         42 INPLACE_ADD                \n",
      "         44 STORE_FAST               2 (total)\n",
      "         46 JUMP_ABSOLUTE           26 \n",
      "    >>   48 POP_BLOCK                  \n",
      "\n",
      "8   >>   50 LOAD_FAST                2 (total)\n",
      "         52 RETURN_VALUE               \n"
     ]
    }
   ],
   "source": [
    "c2=compile(setup2, \"\", \"exec\")\n",
    "disassemble(c2)"
   ]
  },
  {
   "cell_type": "markdown",
   "metadata": {},
   "source": [
    "### Example: Defining constants in Python"
   ]
  },
  {
   "cell_type": "code",
   "execution_count": 530,
   "metadata": {},
   "outputs": [],
   "source": [
    "class ConstError(Exception):\n",
    "    pass\n",
    "\n",
    "def add_const(cl):\n",
    "    '''Detects the declared constants and modifies the disassembled bytecode list after that. \n",
    "    Raises an exception if that constat is reassigned.\n",
    "    \n",
    "    Parameters\n",
    "    =========================================\n",
    "    cl (list): disassembled bytecode list\n",
    "    \n",
    "    Returns\n",
    "    =========================================\n",
    "    tuple: a tuple of the modified bytecode list plus the tuple of constant variables\n",
    "    '''\n",
    "    code_list = cl.copy()\n",
    "    constants= []\n",
    "    indices = []\n",
    "    \n",
    "    # Find the variables declared as const. Add their name and index to constants and indices list\n",
    "    for index, instruction in enumerate(code_list[:-1]):\n",
    "            if instruction == ['LOAD_GLOBAL', 'const']:\n",
    "                code_list[index]=['NOP']\n",
    "                next_instruction = code_list[index+1] \n",
    "                if (next_instruction[0]=='STORE_ATTR'):\n",
    "                    if next_instruction[1] in constants:\n",
    "                        raise ConstError(\"You cannot declare a constant variable twice!\")\n",
    "                    else:\n",
    "                        constants.append(next_instruction[1])\n",
    "                        indices.append(index+1)\n",
    "                        code_list[index+1][0]='STORE_FAST'   \n",
    "                else:\n",
    "                    raise ConstError(\"The constant variable should be assigned after declaration!\")\n",
    "    \n",
    "    #If a constant variable has been reassigned then raise an exception\n",
    "    for index, instruction in enumerate(code_list[:-1]):\n",
    "            if (instruction[0] == 'LOAD_GLOBAL') and (instruction[1] in constants):\n",
    "                code_list[index][0] = 'LOAD_FAST'\n",
    "            if (instruction[0] == 'STORE_GLOBAL' or instruction[0] == 'STORE_FAST') and \\\n",
    "            (instruction[1] in constants) and index not in indices:\n",
    "                raise ConstError(\"'\"+instruction[1]+\"' is a constant and cannot be reassigned!\")               \n",
    "                    \n",
    "    return code_list, tuple(constants)"
   ]
  },
  {
   "cell_type": "code",
   "execution_count": 531,
   "metadata": {},
   "outputs": [],
   "source": [
    "def const(f):\n",
    "    '''\n",
    "    A decorator to apply add_const() to the bytecode of a target function.\n",
    "    \n",
    "    Parameters\n",
    "    =========================================\n",
    "    f (function): target function\n",
    "    \n",
    "    Returns\n",
    "    =========================================\n",
    "    function: the input function with a new code object and modified bytecode\n",
    "    '''\n",
    "    c = f.__code__\n",
    "    code_list = disassemble_to_list(c)\n",
    "    new_code_list, const_vars = add_const(code_list)\n",
    "    new_co_names = tuple(i for i in c.co_names if i not in const_vars + ('const',))\n",
    "    new_bytecode = assemble(new_code_list, c.co_consts, c.co_varnames + const_vars, new_co_names, c.co_freevars + c.co_cellvars)\n",
    "    \n",
    "    nc = types.CodeType(c.co_argcount, c.co_kwonlyargcount, c.co_nlocals+len(const_vars), c.co_stacksize, c.co_flags,\n",
    "                    new_bytecode, c.co_consts, new_co_names, c.co_varnames + const_vars, c.co_filename, c.co_name, \n",
    "                    c.co_firstlineno, c.co_lnotab)\n",
    "    f.__code__ = nc\n",
    "    return f"
   ]
  },
  {
   "cell_type": "code",
   "execution_count": 532,
   "metadata": {},
   "outputs": [],
   "source": [
    "def f(x):\n",
    "    const. A=5\n",
    "    A = A + 1\n",
    "    return A*x"
   ]
  },
  {
   "cell_type": "code",
   "execution_count": 533,
   "metadata": {},
   "outputs": [],
   "source": [
    "# This will raise an exception:\n",
    "# @const\n",
    "# def f(x):\n",
    "#     const. A=5\n",
    "#     A = A + 1\n",
    "#     return A*x"
   ]
  },
  {
   "cell_type": "code",
   "execution_count": null,
   "metadata": {},
   "outputs": [],
   "source": []
  }
 ],
 "metadata": {
  "kernelspec": {
   "display_name": "Python 3",
   "language": "python",
   "name": "python3"
  },
  "language_info": {
   "codemirror_mode": {
    "name": "ipython",
    "version": 3
   },
   "file_extension": ".py",
   "mimetype": "text/x-python",
   "name": "python",
   "nbconvert_exporter": "python",
   "pygments_lexer": "ipython3",
   "version": "3.7.1"
  }
 },
 "nbformat": 4,
 "nbformat_minor": 2
}
